{
 "cells": [
  {
   "cell_type": "markdown",
   "metadata": {},
   "source": [
    "# IPPP Project  - Do Cash Transfers Raise Agricultural Income and Consumption?\n",
    "        \n",
    "        Project Team: \n",
    "        Divyasha Ray | divyasha@uchicago.edu \n",
    "\t\tRiddhima Mishra | riddhimamishra@uchicago.edu \n",
    "\t\tAlejandra López Rodríguez | alejandralr@uchicago.edu \n",
    "\n",
    "Our project is based on the study [Investing Cash Transfers to Raise Long-Term Living Standards](https://www.povertyactionlab.org/sites/default/files/publications/489%20CCT%20Long%20Term%20in%20MExico%20AEJ2012.pdf) by Gertler, Martinez, and Rubio-Codina on the impact of conditional cash transfers on long term living standards of beneficiaries in Mexico. We take the data from the paper to look into the impact of cash transfers in two outcomes: agricultural productivity and consumption?\n"
   ]
  },
  {
   "cell_type": "markdown",
   "metadata": {},
   "source": [
    "Intervention: \n",
    "\n",
    "The Oportunidades program is a conditional cash transfer for poor households in Mexico. The transfers are tied to the households' compliance with medical appointments, school attendance of children, among other conditions.\n",
    "\n",
    "Data:\n",
    "\n"
   ]
  },
  {
   "cell_type": "markdown",
   "metadata": {},
   "source": [
    "SAMPLE BALANCE\n",
    "\n",
    "The evaluation uses data from a Randomized Control Trial of the \"Oportunidades\" cash transfer program in Mexico. First, we present some descriptive statistics to show balance between the treatment and control groups."
   ]
  },
  {
   "cell_type": "code",
   "execution_count": null,
   "metadata": {
    "collapsed": true
   },
   "outputs": [],
   "source": [
    "#insert Ridds codes here"
   ]
  },
  {
   "cell_type": "markdown",
   "metadata": {},
   "source": [
    "KEY QUESTION 1\n",
    "\n",
    "What is the impact of Cash Transfers on Agricultural Productivity Variables? Are beneficiary households investing in agricultural production?"
   ]
  },
  {
   "cell_type": "code",
   "execution_count": null,
   "metadata": {
    "collapsed": true
   },
   "outputs": [],
   "source": [
    "#inster short term regressions here"
   ]
  },
  {
   "cell_type": "markdown",
   "metadata": {},
   "source": [
    "KEY QUESTION 2 \n",
    "\n",
    "The Oportunidades program is likely to increase families' health status. Could it be that the increase in agricultural productivity is driven by improvements in health rather than agricultural investments?"
   ]
  },
  {
   "cell_type": "code",
   "execution_count": null,
   "metadata": {
    "collapsed": true
   },
   "outputs": [],
   "source": [
    "#insert health regression here"
   ]
  },
  {
   "cell_type": "markdown",
   "metadata": {},
   "source": [
    "KEY QUESTION 3\n",
    "\n",
    "What is the impact of Cash Transfers on consumption in the long-term? The authors use consumption as a measure of living standards."
   ]
  },
  {
   "cell_type": "code",
   "execution_count": null,
   "metadata": {
    "collapsed": true
   },
   "outputs": [],
   "source": [
    "#insert long term regression"
   ]
  },
  {
   "cell_type": "markdown",
   "metadata": {},
   "source": [
    "KEY QUESTION 4\n",
    "\n",
    "Divyasha's question goes here"
   ]
  },
  {
   "cell_type": "code",
   "execution_count": null,
   "metadata": {
    "collapsed": true
   },
   "outputs": [],
   "source": [
    "#scraping code here"
   ]
  },
  {
   "cell_type": "code",
   "execution_count": null,
   "metadata": {
    "collapsed": true
   },
   "outputs": [],
   "source": [
    "# Divyasha's regression here"
   ]
  }
 ],
 "metadata": {
  "kernelspec": {
   "display_name": "Python 3",
   "language": "python",
   "name": "python3"
  },
  "language_info": {
   "codemirror_mode": {
    "name": "ipython",
    "version": 3
   },
   "file_extension": ".py",
   "mimetype": "text/x-python",
   "name": "python",
   "nbconvert_exporter": "python",
   "pygments_lexer": "ipython3",
   "version": "3.6.1"
  }
 },
 "nbformat": 4,
 "nbformat_minor": 2
}

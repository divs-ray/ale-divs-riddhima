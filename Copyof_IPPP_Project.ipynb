{
 "cells": [
  {
   "cell_type": "markdown",
   "metadata": {},
   "source": [
    "# IPPP Project  - Do Cash Transfers Increase Ownership of Agricultural Assets and Consumption?\n",
    "        \n",
    "        Project Team: \n",
    "        Divyasha Ray | divyasha@uchicago.edu \n",
    "\t\tRiddhima Mishra | riddhimamishra@uchicago.edu \n",
    "\t\tAlejandra López Rodríguez | alejandralr@uchicago.edu \n",
    "\n",
    "Our project is based on the study [Investing Cash Transfers to Raise Long-Term Living Standards](https://www.povertyactionlab.org/sites/default/files/publications/489%20CCT%20Long%20Term%20in%20MExico%20AEJ2012.pdf) by Gertler, Martinez, and Rubio-Codina on the impact of conditional cash transfers on long term living standards of beneficiaries in Mexico. The identification strategy exploits the fact that the implementation of the program was done in waves, adding more comunities as beneficiaries on each wave. \n",
    "We take the data from the paper to look into the impact of cash transfers in two outcomes: agricultural productivity and consumption.\n"
   ]
  },
  {
   "cell_type": "markdown",
   "metadata": {},
   "source": [
    "### Treatment\n",
    "The Oportunidades program is a conditional cash transfer for poor households in Mexico. The transfers are tied to the households' compliance with medical appointments, school attendance of children, among other conditions. The dummy variable t2_c1_op identifies the treatment and control groups.\n",
    "\n",
    "### Data\n",
    "Our analysis uses panel data from the program's rural evaluation surveys, and the national census. The dataset called investments contains information for the household's ownership of agricultural assets such as land and draft animals. It also contains basic socioeconomic household information. The investments dataset has 157,971 observations.\n",
    "\n",
    "The evaluation sample includes 506 rural communities in 7 states. Communities were randomly assigned to treatment (320 communities) and control (186 communities)groups, which were phased into the program at different points in time as part of the program´s national scale-up. \n"
   ]
  },
  {
   "cell_type": "markdown",
   "metadata": {},
   "source": [
    "### Sample Balance\n",
    "\n",
    "The evaluation uses data from a Randomized Control Trial of the \"Oportunidades\" cash transfer program in Mexico. First, we present some descriptive statistics to show balance between the treatment and control groups."
   ]
  },
  {
   "cell_type": "markdown",
   "metadata": {
    "collapsed": true
   },
   "source": [
    "Eligible households in the treatment group began receiving benefits starting March/April of 1998. Therefore, we compute descriptive statistics for 1997 year. In the data this\n",
    "equals to rows where wave variable is equal to 0. We also only look at the households which were eligible for the cash transfers program, as only eligible households were part of the studyself.\n",
    "Thus, we filter the data where wave=0 and ineligible column=1. We computed descriptive statistics for variables related to agricultural assets and head of the household characteristics.\n",
    "Comments in the codes explains necessary cleaning required for creating the summary stats tables."
   ]
  },
  {
   "cell_type": "markdown",
   "metadata": {},
   "source": [
    "#### Agricultural asset characteristics"
   ]
  },
  {
   "cell_type": "code",
   "execution_count": 92,
   "metadata": {
    "collapsed": true
   },
   "outputs": [],
   "source": [
    "import pandas as pd\n",
    "import numpy as np\n",
    "import scipy.stats as stats\n",
    "import matplotlib.pyplot as plt\n",
    "import math"
   ]
  },
  {
   "cell_type": "code",
   "execution_count": 93,
   "metadata": {
    "collapsed": true
   },
   "outputs": [],
   "source": [
    "#Reading stata files without value labels\n",
    "\n",
    "inv_2 = pd.DataFrame(pd.read_stata(\"investments_data.dta\", convert_categoricals=False))\n",
    "\n",
    "#Panel A: Agricultural assets\n",
    "\n",
    "#Breaking panel A into two parts--Treatment and control\n",
    "#Masking for treatment group, treatment variable =t2_c1_op, where 1= treatment, 0=control\n",
    "\n",
    "inv_2_t1 = inv_2.loc[(inv_2[\"wave\"] == 0) & (inv_2['ineligible']==0) & (inv_2[\"t2_c1_op\"] == 1) ]\n",
    "\n"
   ]
  },
  {
   "cell_type": "code",
   "execution_count": 94,
   "metadata": {
    "collapsed": true
   },
   "outputs": [],
   "source": [
    "#Panel A: Treatment group Set 1\n",
    "\n",
    "agri=['ani197', 'ani297', 'land97']\n",
    "\n",
    "data_t={'Agricultural_assests':['Drafts animals ownership', 'Production animal ownership', 'Land Use'],\n",
    "        'N_t':[],\n",
    "      'Mean_t':[],\n",
    "      'SD_t':[]}\n",
    "for var in agri:\n",
    "    count=(inv_2_t1[var].count())\n",
    "    data_t['N_t'].append(count)\n",
    "    mean=(inv_2_t1[var].mean())*100\n",
    "    data_t['Mean_t'].append(mean)\n",
    "    std=(inv_2_t1[var].std())\n",
    "    data_t['SD_t'].append(std)\n",
    "\n",
    "\n",
    "summ_stats_t1=pd.DataFrame(data_t,columns=['Agricultural_assests','N_t','Mean_t','SD_t'])\n"
   ]
  },
  {
   "cell_type": "code",
   "execution_count": 95,
   "metadata": {
    "collapsed": true
   },
   "outputs": [],
   "source": [
    "#Panel A: Treatment group 2nd set\n",
    "\n",
    "agri_2=['vani197', 'vani297', 'ha97']\n",
    "\n",
    "data_t={'Agricultural_assests':['Monetary value of draft animals','Monetary value production animals','Number hectares used'],\n",
    "        'N_t':[],\n",
    "      'Mean_t':[],\n",
    "      'SD_t':[]}\n",
    "\n",
    "for x in agri_2:\n",
    "    inv_2_t2 = inv_2.loc[(inv_2[\"wave\"] == 0) & (inv_2['ineligible']==0) & (inv_2[x] >0) &(inv_2[\"t2_c1_op\"] == 1)]\n",
    "    count=(inv_2_t2[var].count())\n",
    "    data_t['N_t'].append(count)\n",
    "    mean=(inv_2_t2[var].mean())*100\n",
    "    data_t['Mean_t'].append(mean)\n",
    "    std=(inv_2_t2[var].std())\n",
    "    data_t['SD_t'].append(std)\n",
    "\n",
    "summ_stats_t2=pd.DataFrame(data_t,columns=['Agricultural_assests','N_t','Mean_t','SD_t'])\n"
   ]
  },
  {
   "cell_type": "code",
   "execution_count": 96,
   "metadata": {
    "collapsed": true
   },
   "outputs": [],
   "source": [
    "#Joining Panel A treatment group statistics together\n",
    "\n",
    "panel_a_t=pd.concat([summ_stats_t1, summ_stats_t2], axis=0)\n"
   ]
  },
  {
   "cell_type": "code",
   "execution_count": 97,
   "metadata": {
    "collapsed": true
   },
   "outputs": [],
   "source": [
    "#Panel A: control group\n",
    "#Masking for control group\n",
    "\n",
    "inv_2_c = inv_2.loc[(inv_2[\"wave\"] == 0) & (inv_2['ineligible']==0) & (inv_2[\"t2_c1_op\"] == 0) ]\n",
    "\n",
    "#Panel A: Contol group Set 1\n",
    "\n",
    "\n",
    "data_c={'N_c':[],\n",
    "      'Mean_c':[],\n",
    "      'SD_c':[]}\n",
    "for var in agri:\n",
    "    count=(inv_2_c[var].count())\n",
    "    data_c['N_c'].append(count)\n",
    "    mean=(inv_2_c[var].mean())*100\n",
    "    data_c['Mean_c'].append(mean)\n",
    "    std=(inv_2_c[var].std())\n",
    "    data_c['SD_c'].append(std)\n",
    "\n",
    "summ_stats_c1=pd.DataFrame(data_c,columns=['N_c','Mean_c','SD_c'])\n",
    "\n"
   ]
  },
  {
   "cell_type": "code",
   "execution_count": 98,
   "metadata": {
    "collapsed": true
   },
   "outputs": [],
   "source": [
    "#Panel A Contol group Set 2\n",
    "\n",
    "\n",
    "data_c={'N_c':[],\n",
    "      'Mean_c':[],\n",
    "      'SD_c':[]}\n",
    "\n",
    "for x in agri_2:\n",
    "    inv_2_c = inv_2.loc[(inv_2[\"wave\"] == 0) & (inv_2['ineligible']==0) & (inv_2[x] >0) &(inv_2[\"t2_c1_op\"] == 0)]\n",
    "    count=(inv_2_c[var].count())\n",
    "    data_c['N_c'].append(count)\n",
    "    mean=(inv_2_c[var].mean())*100\n",
    "    data_c['Mean_c'].append(mean)\n",
    "    std=(inv_2_c[var].std())\n",
    "    data_c['SD_c'].append(std)\n",
    "\n",
    "\n",
    "\n",
    "summ_stats_c2=pd.DataFrame(data_c,columns=['N_c','Mean_c','SD_c'])\n",
    "\n"
   ]
  },
  {
   "cell_type": "code",
   "execution_count": 99,
   "metadata": {
    "collapsed": true
   },
   "outputs": [],
   "source": [
    "#Getting the control together\n",
    "\n",
    "panel_a_c=pd.concat([summ_stats_c1, summ_stats_c2], axis=0)\n",
    "\n"
   ]
  },
  {
   "cell_type": "code",
   "execution_count": 100,
   "metadata": {},
   "outputs": [
    {
     "name": "stdout",
     "output_type": "stream",
     "text": [
      "                Agricultural_assests   N_t      Mean_t      SD_t   N_c  \\\n",
      "0           Drafts animals ownership  7658   34.486811  0.475356  4644   \n",
      "1        Production animal ownership  7656   80.721003  0.394515  4643   \n",
      "2                           Land Use  7658   59.114651  0.491654  4644   \n",
      "0    Monetary value of draft animals  2633   77.288264  0.419049  1472   \n",
      "1  Monetary value production animals  6172   63.447829  0.481615  3773   \n",
      "2               Number hectares used  4432  100.000000  0.000000  2543   \n",
      "\n",
      "       Mean_c      SD_c  \n",
      "0   31.761413  0.465599  \n",
      "1   81.455955  0.388696  \n",
      "2   56.029285  0.496405  \n",
      "0   77.038043  0.420731  \n",
      "1   61.542539  0.486559  \n",
      "2  100.000000  0.000000  \n"
     ]
    }
   ],
   "source": [
    "#Getting the treatment and control group together\n",
    "panel_a=pd.concat([panel_a_t, panel_a_c], axis=1)\n",
    "\n",
    "print(panel_a)\n"
   ]
  },
  {
   "cell_type": "markdown",
   "metadata": {},
   "source": [
    "#### T-test\n",
    "After looking at the descriptive characteristics by treatment and control group. We tested if there were statistically significant difference\n",
    "between the two groups."
   ]
  },
  {
   "cell_type": "code",
   "execution_count": 102,
   "metadata": {},
   "outputs": [
    {
     "name": "stdout",
     "output_type": "stream",
     "text": [
      "Ttest_indResult(statistic=-8.5075060977388848, pvalue=2.0265295370164805e-17)\n",
      "Ttest_indResult(statistic=-41.934057731300307, pvalue=0.0)\n"
     ]
    }
   ],
   "source": [
    "#Running TTest individually for ani and land as ani297 needs cleaning\n",
    "\n",
    "agri_subset=['ani197','land97']\n",
    "\n",
    "for a in agri_subset:\n",
    "    print(stats.ttest_ind(a=inv_2_t1[a],\n",
    "                b=inv_2_c[a]))"
   ]
  },
  {
   "cell_type": "code",
   "execution_count": 89,
   "metadata": {},
   "outputs": [
    {
     "name": "stdout",
     "output_type": "stream",
     "text": [
      "Ttest_indResult(statistic=-10.430068442645005, pvalue=2.4239524119732447e-25)\n"
     ]
    },
    {
     "name": "stderr",
     "output_type": "stream",
     "text": [
      "/Users/alejandralopez/anaconda/lib/python3.6/site-packages/ipykernel_launcher.py:5: SettingWithCopyWarning: \n",
      "A value is trying to be set on a copy of a slice from a DataFrame.\n",
      "Try using .loc[row_indexer,col_indexer] = value instead\n",
      "\n",
      "See the caveats in the documentation: http://pandas.pydata.org/pandas-docs/stable/indexing.html#indexing-view-versus-copy\n",
      "  \"\"\"\n",
      "/Users/alejandralopez/anaconda/lib/python3.6/site-packages/ipykernel_launcher.py:6: SettingWithCopyWarning: \n",
      "A value is trying to be set on a copy of a slice from a DataFrame.\n",
      "Try using .loc[row_indexer,col_indexer] = value instead\n",
      "\n",
      "See the caveats in the documentation: http://pandas.pydata.org/pandas-docs/stable/indexing.html#indexing-view-versus-copy\n",
      "  \n",
      "/Users/alejandralopez/anaconda/lib/python3.6/site-packages/ipykernel_launcher.py:10: SettingWithCopyWarning: \n",
      "A value is trying to be set on a copy of a slice from a DataFrame\n",
      "\n",
      "See the caveats in the documentation: http://pandas.pydata.org/pandas-docs/stable/indexing.html#indexing-view-versus-copy\n",
      "  # Remove the CWD from sys.path while we load stuff.\n",
      "/Users/alejandralopez/anaconda/lib/python3.6/site-packages/ipykernel_launcher.py:11: SettingWithCopyWarning: \n",
      "A value is trying to be set on a copy of a slice from a DataFrame\n",
      "\n",
      "See the caveats in the documentation: http://pandas.pydata.org/pandas-docs/stable/indexing.html#indexing-view-versus-copy\n",
      "  # This is added back by InteractiveShellApp.init_path()\n"
     ]
    }
   ],
   "source": [
    "#Cleaning ani297 to run the TTest\n",
    "\n",
    "#converting all values to numeric to ignore unwanted values\n",
    "\n",
    "inv_2_t1['ani297']=pd.to_numeric(inv_2_t1['ani297'], errors='coerce')\n",
    "inv_2_c['ani297']=pd.to_numeric(inv_2_c['ani297'], errors='coerce')\n",
    "\n",
    "#removing Na\n",
    "\n",
    "inv_2_t1.dropna(subset=['ani297'], inplace=True)\n",
    "inv_2_c.dropna(subset=['ani297'], inplace=True)\n",
    "\n",
    "\n",
    "print(stats.ttest_ind(a=inv_2_t1['ani297'],\n",
    "                b=inv_2_c['ani297']))\n",
    "\n"
   ]
  },
  {
   "cell_type": "code",
   "execution_count": 90,
   "metadata": {},
   "outputs": [
    {
     "name": "stdout",
     "output_type": "stream",
     "text": [
      "Ttest_indResult(statistic=1.2944644499645681, pvalue=0.1955778875135549)\n",
      "Ttest_indResult(statistic=0.41531993728709432, pvalue=0.67791666971959263)\n",
      "Ttest_indResult(statistic=-4.9299502938398305, pvalue=8.4150934513888061e-07)\n"
     ]
    }
   ],
   "source": [
    "#Panel A Set 2: TTests\n",
    "for x in agri_2:\n",
    "    inv_2_t2 = inv_2.loc[(inv_2[\"wave\"] == 0) & (inv_2['ineligible']==0) & (inv_2[x] >0) &(inv_2[\"t2_c1_op\"] == 1)]\n",
    "    inv_2_c2 = inv_2.loc[(inv_2[\"wave\"] == 0) & (inv_2['ineligible']==0) & (inv_2[x] >0) &(inv_2[\"t2_c1_op\"] == 0)]\n",
    "    print(stats.ttest_ind(a=inv_2_t2[x],\n",
    "                b=inv_2_c2[x]))\n"
   ]
  },
  {
   "cell_type": "markdown",
   "metadata": {},
   "source": [
    "Except the land use, all the other characteristics are statistically similar between the control and treatment group. We believe even though\n",
    "the difference for land use is significant, the difference in avergae is 3 i.e. on an average there were 3 more houesholds that used land in the\n",
    "treatment group compared to control group. We believe given the size of the sample this shouldn't impact our regression results."
   ]
  },
  {
   "cell_type": "markdown",
   "metadata": {},
   "source": [
    "#### Head of the household characteristics"
   ]
  },
  {
   "cell_type": "markdown",
   "metadata": {},
   "source": [
    "Besides looking at the outcome variables for the study, we also looked at other household characteristics that might impact the results. In particular we look at\n",
    "household head characteristics that includes age, gender, and education variables.\n"
   ]
  },
  {
   "cell_type": "code",
   "execution_count": 103,
   "metadata": {
    "collapsed": true
   },
   "outputs": [],
   "source": [
    "#PAnel B: Head of HH characteristics\n",
    "\n",
    "# Masking for wave and eligibility\n",
    "inv_2 = inv_2.loc[(inv_2[\"wave\"] == 0) & (inv_2['ineligible']==0)]\n",
    "\n",
    "#Taking care of any missing values\n",
    "inv_2.dropna(subset=['age_hh', 'female_hh', 'ethnicity_hh', 'educ_hh'], inplace=True)\n",
    "\n",
    "#Creating new dummy variables for education\n",
    "\n",
    "import numpy as np\n",
    "inv_2['educ_0']=np.where(inv_2['educ_hh'] <=0.5, 1, 0)\n",
    "inv_2['educ_1']=np.where((inv_2['educ_hh'] >=0.5) & (inv_2['educ_hh'] <=5), 1, 0)\n",
    "inv_2['educ_2']=np.where(inv_2['educ_hh'] ==6, 1, 0)\n",
    "inv_2['educ_3']=np.where((inv_2['educ_hh'] >=7) & (inv_2['educ_hh'] <=18), 1, 0)\n",
    "\n",
    "\n",
    "hh_char=['age_hh', 'female_hh', 'ethnicity_hh', 'educ_0', 'educ_1', 'educ_2', 'educ_3']\n"
   ]
  },
  {
   "cell_type": "code",
   "execution_count": 104,
   "metadata": {
    "collapsed": true
   },
   "outputs": [],
   "source": [
    "#Treatment group\n",
    "\n",
    "\n",
    "#Creating a seperate dataframe for the treatment group\n",
    "inv_2_t=inv_2.loc[inv_2[\"t2_c1_op\"] == 1]\n",
    "\n",
    "data_t={'Head of HH characteristics':['Age', 'Female','Indigenous','Never attended school','Primary school not completed','Primary school completed','More than Primary School'],\n",
    "        'N_t':[],\n",
    "        'Mean_t':[],\n",
    "        'SD_t':[]}\n",
    "for var in hh_char:\n",
    "    count=(inv_2_t[var].count())\n",
    "    data_t['N_t'].append(count)\n",
    "    mean=(inv_2_t[var].mean())*100\n",
    "    data_t['Mean_t'].append(mean)\n",
    "    std=(inv_2_t[var].std())\n",
    "    data_t['SD_t'].append(std)\n",
    "\n",
    "\n",
    "summ_stats_t=pd.DataFrame(data_t,columns=['Head of HH characteristics','N_t','Mean_t','SD_t'])\n",
    "\n"
   ]
  },
  {
   "cell_type": "code",
   "execution_count": 105,
   "metadata": {},
   "outputs": [
    {
     "name": "stdout",
     "output_type": "stream",
     "text": [
      "     Head of HH characteristics   N_t       Mean_t       SD_t   N_c  \\\n",
      "0                           Age  7658  4194.868469  14.130675  4644   \n",
      "1                        Female  7658     8.161400   0.273794  4644   \n",
      "2                    Indigenous  7658    41.838600   0.493326  4644   \n",
      "3         Never attended school  7658    31.339775   0.463905  4644   \n",
      "4  Primary school not completed  7658    46.644032   0.498905  4644   \n",
      "5      Primary school completed  7658    16.884304   0.374638  4644   \n",
      "6      More than Primary School  7658     5.327762   0.224601  4644   \n",
      "\n",
      "        Mean_c       SD_c  \n",
      "0  4233.441162  14.519606  \n",
      "1     8.397933   0.277387  \n",
      "2    43.626184   0.495974  \n",
      "3    32.601206   0.468802  \n",
      "4    47.265289   0.499305  \n",
      "5    15.568475   0.362595  \n",
      "6     4.995693   0.217879  \n"
     ]
    }
   ],
   "source": [
    "#control group\n",
    "inv_2_c=inv_2.loc[inv_2[\"t2_c1_op\"] == 0]\n",
    "\n",
    "data_c={'N_c':[],\n",
    "      'Mean_c':[],\n",
    "      'SD_c':[]}\n",
    "for var in hh_char:\n",
    "    count=(inv_2_c[var].count())\n",
    "    data_c['N_c'].append(count)\n",
    "    mean=(inv_2_c[var].mean())*100\n",
    "    data_c['Mean_c'].append(mean)\n",
    "    std=(inv_2_c[var].std())\n",
    "    data_c['SD_c'].append(std)\n",
    "\n",
    "summ_stats_c=pd.DataFrame(data_c,columns=['N_c','Mean_c','SD_c'])\n",
    "\n",
    "panel_b=pd.concat([summ_stats_t, summ_stats_c], axis=1)\n",
    "print(panel_b)\n"
   ]
  },
  {
   "cell_type": "markdown",
   "metadata": {},
   "source": [
    "#### T-test"
   ]
  },
  {
   "cell_type": "code",
   "execution_count": 106,
   "metadata": {},
   "outputs": [
    {
     "name": "stdout",
     "output_type": "stream",
     "text": [
      "Ttest_indResult(statistic=-1.4524547754462007, pvalue=0.14640070341055741)\n",
      "Ttest_indResult(statistic=-0.46219955282284875, pvalue=0.64394639906375151)\n",
      "Ttest_indResult(statistic=-1.9443193606479814, pvalue=0.051879719035263283)\n",
      "Ttest_indResult(statistic=-1.4561880620897258, pvalue=0.1453661627712905)\n",
      "Ttest_indResult(statistic=-0.66932521689195656, pvalue=0.50330060724387127)\n",
      "Ttest_indResult(statistic=1.9114001282863315, pvalue=0.055976395569745728)\n",
      "Ttest_indResult(statistic=0.80393115874379351, pvalue=0.42145227032814503)\n"
     ]
    }
   ],
   "source": [
    "for x in hh_char:\n",
    "    print(stats.ttest_ind(a=inv_2_t[x],\n",
    "                b=inv_2_c[x]))\n",
    "\n"
   ]
  },
  {
   "cell_type": "markdown",
   "metadata": {},
   "source": [
    "#### Since, all the p values are greater than .05, we can conclude that the control and treatment group are statiscally similar for head of household characteristics."
   ]
  },
  {
   "cell_type": "markdown",
   "metadata": {},
   "source": [
    "### Summary Plots\n",
    "\n",
    "Since, our outcome variables only include the Panel A: Agricultural assets variables, we thought it would also be good to look at their distribution across control and treatment group.\n"
   ]
  },
  {
   "cell_type": "code",
   "execution_count": 107,
   "metadata": {
    "collapsed": true
   },
   "outputs": [],
   "source": [
    "import numpy as np\n",
    "import matplotlib as mpl\n",
    "import matplotlib.pyplot as plt\n",
    "import seaborn as sns\n"
   ]
  },
  {
   "cell_type": "code",
   "execution_count": 108,
   "metadata": {},
   "outputs": [
    {
     "data": {
      "image/png": "[encoded data removed]",
      "text/plain": [
       "<matplotlib.figure.Figure at 0x1368a52e8>"
      ]
     },
     "metadata": {},
     "output_type": "display_data"
    },
    {
     "data": {
      "image/png": "[encoded data removed]",
      "text/plain": [
       "<matplotlib.figure.Figure at 0x136899748>"
      ]
     },
     "metadata": {},
     "output_type": "display_data"
    },
    {
     "data": {
      "image/png": "[encoded data removed]",
      "text/plain": [
       "<matplotlib.figure.Figure at 0x136699e48>"
      ]
     },
     "metadata": {},
     "output_type": "display_data"
    }
   ],
   "source": [
    "\n",
    "sns.set_style(\"whitegrid\")\n",
    "sns.set_context('notebook', font_scale=1.45, rc={\"lines.linewidth\": 3, \"figure.figsize\" : (7, 10)})\n",
    "\n",
    "#Plotting first set of Dependent variables\n",
    "\n",
    "#renaming the columns\n",
    "inv_2.rename(columns={'ani197':'Drafts animals ownership', 'ani297':'Production animals ownership','land97':'Land use'}, inplace=True)\n",
    "\n",
    "#First set of dependent variables\n",
    "\n",
    "agri=['Drafts animals ownership','Production animals ownership','Land use']\n",
    "\n",
    "for x in agri:\n",
    "    k=sns.boxplot(data=inv_2, x='t2_c1_op', y=x,width=.5,orient='h')\n",
    "    k.set_ylabel(\"Treat Grp(1), Control Grp(1)\")\n",
    "    k.set_xlabel(\"{}: # of HHs\".format(x))\n",
    "    plt.show()\n",
    "\n"
   ]
  },
  {
   "cell_type": "code",
   "execution_count": 110,
   "metadata": {
    "collapsed": true
   },
   "outputs": [],
   "source": [
    "#Second set of dependent variables\n",
    "#Reading the data as before\n",
    "\n",
    "inv_2 = pd.DataFrame(pd.read_stata(\"investments_data.dta\", convert_categoricals=False))\n",
    "\n",
    "inv_2.rename(columns={'vani197':'Value of draft animals (pesos)','vani297':'Value of prod. animals (pesos)','ha97':'Number of hectares used'}, inplace=True)\n",
    "\n"
   ]
  },
  {
   "cell_type": "code",
   "execution_count": 111,
   "metadata": {},
   "outputs": [
    {
     "data": {
      "image/png": "[encoded data removed]",
      "text/plain": [
       "<matplotlib.figure.Figure at 0x13689d940>"
      ]
     },
     "metadata": {},
     "output_type": "display_data"
    },
    {
     "data": {
      "image/png": "[encoded data removed]",
      "text/plain": [
       "<matplotlib.figure.Figure at 0x13e804208>"
      ]
     },
     "metadata": {},
     "output_type": "display_data"
    },
    {
     "data": {
      "image/png": "[encoded data removed]",
      "text/plain": [
       "<matplotlib.figure.Figure at 0x13e9f3470>"
      ]
     },
     "metadata": {},
     "output_type": "display_data"
    }
   ],
   "source": [
    "#Plotting for value of draft animals (pesos)\n",
    "inv_val_draft= inv_2.loc[(inv_2[\"wave\"] == 0) & (inv_2['ineligible']==0) & (inv_2['Value of draft animals (pesos)'] >0)]\n",
    "k=sns.boxplot(data=inv_val_draft, x='t2_c1_op', y='Value of draft animals (pesos)', width=.5)\n",
    "k.set_ylim(0,10000)\n",
    "k.set_ylabel(\"Value of draft animals (pesos)\")\n",
    "k.set_xlabel(\"Control Grp(0), Treat Grp(1)\")\n",
    "plt.show(k)\n",
    "\n",
    "#Plotting for value of production animals\n",
    "inv_val_prod= inv_2.loc[(inv_2[\"wave\"] == 0) & (inv_2['ineligible']==0) & (inv_2['Value of prod. animals (pesos)'] >0)]\n",
    "k=sns.boxplot(data=inv_val_prod, x='t2_c1_op', y='Value of prod. animals (pesos)', width=.5)\n",
    "k.set_ylim(0,10000)\n",
    "k.set_ylabel(\"Value of draft animals (pesos)\")\n",
    "k.set_xlabel(\"Control Grp(0), Treat Grp(1)\")\n",
    "plt.show(k)\n",
    "\n",
    "\n",
    "#Plotting for # of heactare used\n",
    "\n",
    "inv_ha= inv_2.loc[(inv_2[\"wave\"] == 0) & (inv_2['ineligible']==0) & (inv_2['Number of hectares used'] >0)]\n",
    "k=sns.boxplot(data=inv_ha, x='t2_c1_op', y='Number of hectares used', width=.5)\n",
    "k.set_ylabel(\"Number of hectares used\")\n",
    "k.set_xlabel(\"Control Grp(0), Treat Grp(1)\")\n",
    "plt.show(k)\n"
   ]
  },
  {
   "cell_type": "markdown",
   "metadata": {},
   "source": [
    "The distribution across the control and treatment groups look similar."
   ]
  },
  {
   "cell_type": "markdown",
   "metadata": {},
   "source": [
    "### KEY QUESTION 1\n",
    "\n",
    "What is the impact of the program on beneficiaries' ownership of various agricultural assets?\n",
    "\n",
    "General note about the regression analysis: the authors use many control variables to limit residual variance, includic socioeconomic charecteristics and baseline conditions for the relevant outcome variables."
   ]
  },
  {
   "cell_type": "code",
   "execution_count": 26,
   "metadata": {
    "collapsed": true,
    "scrolled": true
   },
   "outputs": [],
   "source": [
    "import pandas as pd\n",
    "import numpy as np\n",
    "import statsmodels.api as sm"
   ]
  },
  {
   "cell_type": "code",
   "execution_count": 27,
   "metadata": {
    "collapsed": true
   },
   "outputs": [],
   "source": [
    "# Reading the data\n",
    "inv_2 = pd.DataFrame(pd.read_stata(\"investments_data.dta\", convert_categoricals=False))"
   ]
  },
  {
   "cell_type": "code",
   "execution_count": 28,
   "metadata": {
    "collapsed": true
   },
   "outputs": [],
   "source": [
    "# For the short-term analysis we only need waves 2,3, and 4\n",
    "inv_2 = inv_2.loc[inv_2['wave'].isin([2,3,4])]"
   ]
  },
  {
   "cell_type": "code",
   "execution_count": 29,
   "metadata": {
    "collapsed": true
   },
   "outputs": [],
   "source": [
    "#droping na of outcome vars and regressors\n",
    "inv_2.dropna(subset=['ani1', 'ani2', 'land', 'vani1', 'vani2', 'ha', 't2_c1_op','nbani197', 'nbani297', \n",
    "                     'ha97', 'nbani197', 'nbani297', 'ha97', 'no497', 'big497', 'age_hh', \n",
    "                     'age_hh2', 'female_hh', 'educ1_hh', 'ethnicity_hh', 'age_sp', 'age_sp2', \n",
    "                     'educ1_sp', 'dage0_7_97', 'dage8_17_97', 'dage18_54_97', 'hhsize97', \n",
    "                     'homeown97', 'dirtfloor97', 'electricity97', 'org_faenas', 'min_dist', 'lnup_cwagepm',\n",
    "                     'up2_mcwagepm', 'dummy_age_hh', 'dummy_educ_hh', 'dummy_ethnicity_hh', 'dummy_age_sp',\n",
    "                     'dummy_educ_sp', 'dummy_dage0_7_97', 'dummy_dirtfloor97', 'dummy_electricity97'], inplace=True)"
   ]
  },
  {
   "cell_type": "code",
   "execution_count": 30,
   "metadata": {
    "collapsed": true
   },
   "outputs": [],
   "source": [
    "inv_2_waves = pd.get_dummies(inv_2['wave'])"
   ]
  },
  {
   "cell_type": "code",
   "execution_count": 31,
   "metadata": {
    "collapsed": true
   },
   "outputs": [],
   "source": [
    "inv_2_waves.rename(columns={2: 'wave2', 3: 'wave3', 4: 'wave4'}, inplace=True)"
   ]
  },
  {
   "cell_type": "code",
   "execution_count": 32,
   "metadata": {
    "collapsed": true
   },
   "outputs": [],
   "source": [
    "inv_2 = pd.concat([inv_2, inv_2_waves], axis=1)"
   ]
  },
  {
   "cell_type": "code",
   "execution_count": 33,
   "metadata": {
    "collapsed": true
   },
   "outputs": [],
   "source": [
    "inv_2.dropna(subset=['wave3', 'wave4'], inplace=True)"
   ]
  },
  {
   "cell_type": "code",
   "execution_count": 34,
   "metadata": {},
   "outputs": [
    {
     "name": "stdout",
     "output_type": "stream",
     "text": [
      "                            OLS Regression Results                            \n",
      "==============================================================================\n",
      "Dep. Variable:                   ani1   R-squared:                       0.170\n",
      "Model:                            OLS   Adj. R-squared:                  0.169\n",
      "Method:                 Least Squares   F-statistic:                     193.8\n",
      "Date:                Fri, 01 Dec 2017   Prob (F-statistic):               0.00\n",
      "Time:                        19:18:59   Log-Likelihood:                -17145.\n",
      "No. Observations:               33103   AIC:                         3.436e+04\n",
      "Df Residuals:                   33067   BIC:                         3.466e+04\n",
      "Df Model:                          35                                         \n",
      "Covariance Type:            nonrobust                                         \n",
      "=======================================================================================\n",
      "                          coef    std err          t      P>|t|      [0.025      0.975]\n",
      "---------------------------------------------------------------------------------------\n",
      "const                  -0.0893      0.043     -2.073      0.038      -0.174      -0.005\n",
      "t2_c1_op                0.0417      0.005      8.960      0.000       0.033       0.051\n",
      "wave3                  -0.0119      0.005     -2.183      0.029      -0.023      -0.001\n",
      "wave4                   0.0005      0.006      0.080      0.936      -0.011       0.012\n",
      "nbani197                0.0439      0.001     32.559      0.000       0.041       0.047\n",
      "nbani297                0.0106      0.001     18.125      0.000       0.009       0.012\n",
      "ha97                    0.0020      0.000      4.364      0.000       0.001       0.003\n",
      "ha97                    0.0020      0.000      4.364      0.000       0.001       0.003\n",
      "nbani197                0.0439      0.001     32.559      0.000       0.041       0.047\n",
      "nbani297                0.0106      0.001     18.125      0.000       0.009       0.012\n",
      "ha97                    0.0020      0.000      4.364      0.000       0.001       0.003\n",
      "no497                  -0.1121      0.008    -14.297      0.000      -0.127      -0.097\n",
      "big497                  0.0602      0.009      7.059      0.000       0.044       0.077\n",
      "age_hh                  0.0020      0.001      1.451      0.147      -0.001       0.005\n",
      "age_hh2             -1.306e-05   1.32e-05     -0.988      0.323    -3.9e-05    1.29e-05\n",
      "female_hh              -0.0384      0.012     -3.095      0.002      -0.063      -0.014\n",
      "educ1_hh                0.0270      0.006      4.287      0.000       0.015       0.039\n",
      "ethnicity_hh           -0.1279      0.005    -24.906      0.000      -0.138      -0.118\n",
      "age_sp                  0.0029      0.002      1.857      0.063      -0.000       0.006\n",
      "age_sp2             -2.535e-05   1.69e-05     -1.504      0.133   -5.84e-05    7.69e-06\n",
      "educ1_sp                0.0048      0.007      0.721      0.471      -0.008       0.018\n",
      "dage0_7_97             -0.0308      0.007     -4.420      0.000      -0.044      -0.017\n",
      "dage8_17_97             0.0101      0.006      1.582      0.114      -0.002       0.023\n",
      "dage18_54_97            0.0198      0.013      1.581      0.114      -0.005       0.044\n",
      "hhsize97                0.0149      0.001     10.878      0.000       0.012       0.018\n",
      "homeown97               0.0366      0.009      3.892      0.000       0.018       0.055\n",
      "dirtfloor97            -0.0059      0.005     -1.091      0.275      -0.016       0.005\n",
      "electricity97           0.0123      0.005      2.501      0.012       0.003       0.022\n",
      "org_faenas              0.0146      0.007      2.112      0.035       0.001       0.028\n",
      "min_dist               -0.0006   5.66e-05    -11.406      0.000      -0.001      -0.001\n",
      "lnup_cwagepm            0.0180      0.005      3.843      0.000       0.009       0.027\n",
      "up2_mcwagepm            0.0960      0.031      3.103      0.002       0.035       0.157\n",
      "dummy_age_hh            0.1344      0.133      1.011      0.312      -0.126       0.395\n",
      "dummy_educ_hh           0.0664      0.043      1.555      0.120      -0.017       0.150\n",
      "dummy_ethnicity_hh     -0.0781      0.052     -1.492      0.136      -0.181       0.024\n",
      "dummy_age_sp           -0.0770      0.030     -2.603      0.009      -0.135      -0.019\n",
      "dummy_educ_sp           0.0495      0.029      1.712      0.087      -0.007       0.106\n",
      "dummy_dage0_7_97        0.1226      0.072      1.699      0.089      -0.019       0.264\n",
      "dummy_dirtfloor97       0.0867      0.046      1.885      0.059      -0.003       0.177\n",
      "dummy_electricity97     0.1032      0.113      0.914      0.361      -0.118       0.324\n",
      "==============================================================================\n",
      "Omnibus:                     3087.157   Durbin-Watson:                   1.433\n",
      "Prob(Omnibus):                  0.000   Jarque-Bera (JB):             3742.482\n",
      "Skew:                           0.801   Prob(JB):                         0.00\n",
      "Kurtosis:                       2.617   Cond. No.                     1.18e+16\n",
      "==============================================================================\n",
      "\n",
      "Warnings:\n",
      "[1] Standard Errors assume that the covariance matrix of the errors is correctly specified.\n",
      "[2] The smallest eigenvalue is 2.35e-21. This might indicate that there are\n",
      "strong multicollinearity problems or that the design matrix is singular.\n"
     ]
    }
   ],
   "source": [
    "# Impact of treatment on draft animal ownership\n",
    "\n",
    "x = inv_2[['t2_c1_op', 'wave3', 'wave4', 'nbani197', 'nbani297', 'ha97', 'ha97', 'nbani197', 'nbani297', 'ha97', 'no497', 'big497', 'age_hh', \n",
    "                     'age_hh2', 'female_hh', 'educ1_hh', 'ethnicity_hh', 'age_sp', 'age_sp2', \n",
    "                     'educ1_sp', 'dage0_7_97', 'dage8_17_97', 'dage18_54_97', 'hhsize97', \n",
    "                     'homeown97', 'dirtfloor97', 'electricity97', 'org_faenas', 'min_dist', 'lnup_cwagepm',\n",
    "                     'up2_mcwagepm', 'dummy_age_hh', 'dummy_educ_hh', 'dummy_ethnicity_hh', 'dummy_age_sp',\n",
    "                     'dummy_educ_sp', 'dummy_dage0_7_97', 'dummy_dirtfloor97', 'dummy_electricity97']]\n",
    "y= inv_2[['ani1']]\n",
    "x = sm.add_constant(x)\n",
    "est = sm.OLS(y, x).fit()\n",
    "print(est.summary())"
   ]
  },
  {
   "cell_type": "markdown",
   "metadata": {},
   "source": [
    "#### The regression output shows that the treatment had a positive impact with 95% confidence interval: beneficiary households are 4.2% more likely to own a draft animal as part of their agricultural assets.\n",
    "\n",
    "\n"
   ]
  },
  {
   "cell_type": "markdown",
   "metadata": {},
   "source": [
    "\n",
    "\n",
    "What about the value of the animals the household owns?\n",
    "As shown in the regression output below, treatment households saw an increase of $65 pesos to the value of their draft animals."
   ]
  },
  {
   "cell_type": "code",
   "execution_count": 35,
   "metadata": {},
   "outputs": [
    {
     "name": "stdout",
     "output_type": "stream",
     "text": [
      "                            OLS Regression Results                            \n",
      "==============================================================================\n",
      "Dep. Variable:                  vani1   R-squared:                       0.201\n",
      "Model:                            OLS   Adj. R-squared:                  0.200\n",
      "Method:                 Least Squares   F-statistic:                     237.0\n",
      "Date:                Fri, 01 Dec 2017   Prob (F-statistic):               0.00\n",
      "Time:                        19:18:59   Log-Likelihood:            -2.7078e+05\n",
      "No. Observations:               33103   AIC:                         5.416e+05\n",
      "Df Residuals:                   33067   BIC:                         5.419e+05\n",
      "Df Model:                          35                                         \n",
      "Covariance Type:            nonrobust                                         \n",
      "=======================================================================================\n",
      "                          coef    std err          t      P>|t|      [0.025      0.975]\n",
      "---------------------------------------------------------------------------------------\n",
      "const                -590.8306     91.521     -6.456      0.000    -770.215    -411.447\n",
      "t2_c1_op               65.2371      9.903      6.588      0.000      45.827      84.647\n",
      "wave3                 -11.6599     11.567     -1.008      0.313     -34.331      11.011\n",
      "wave4                 -16.0639     12.082     -1.330      0.184     -39.745       7.618\n",
      "nbani197              151.0616      2.865     52.729      0.000     145.446     156.677\n",
      "nbani297               26.2951      1.244     21.143      0.000      23.857      28.733\n",
      "ha97                    3.3155      0.987      3.359      0.001       1.381       5.250\n",
      "ha97                    3.3155      0.987      3.359      0.001       1.381       5.250\n",
      "nbani197              151.0616      2.865     52.729      0.000     145.446     156.677\n",
      "nbani297               26.2951      1.244     21.143      0.000      23.857      28.733\n",
      "ha97                    3.3155      0.987      3.359      0.001       1.381       5.250\n",
      "no497                 -77.3100     16.666     -4.639      0.000    -109.975     -44.645\n",
      "big497                120.7724     18.137      6.659      0.000      85.224     156.321\n",
      "age_hh                  5.0716      2.938      1.726      0.084      -0.687      10.830\n",
      "age_hh2                -0.0428      0.028     -1.522      0.128      -0.098       0.012\n",
      "female_hh             -92.7159     26.370     -3.516      0.000    -144.401     -41.030\n",
      "educ1_hh               32.7406     13.403      2.443      0.015       6.470      59.011\n",
      "ethnicity_hh         -178.6625     10.917    -16.366      0.000    -200.060    -157.265\n",
      "age_sp                  7.4770      3.363      2.223      0.026       0.886      14.068\n",
      "age_sp2                -0.0710      0.036     -1.982      0.048      -0.141      -0.001\n",
      "educ1_sp              -15.7861     14.102     -1.119      0.263     -43.426      11.853\n",
      "dage0_7_97            -62.4670     14.811     -4.218      0.000     -91.496     -33.438\n",
      "dage8_17_97           -16.5564     13.525     -1.224      0.221     -43.066       9.953\n",
      "dage18_54_97          -27.0663     26.582     -1.018      0.309     -79.168      25.036\n",
      "hhsize97               24.2065      2.921      8.287      0.000      18.481      29.932\n",
      "homeown97              26.5722     20.006      1.328      0.184     -12.640      65.784\n",
      "dirtfloor97           -29.7604     11.454     -2.598      0.009     -52.211      -7.310\n",
      "electricity97          36.7499     10.459      3.514      0.000      16.251      57.249\n",
      "org_faenas            -40.9657     14.724     -2.782      0.005     -69.826     -12.105\n",
      "min_dist               -1.4376      0.120    -11.940      0.000      -1.674      -1.202\n",
      "lnup_cwagepm           96.4368      9.934      9.708      0.000      76.966     115.908\n",
      "up2_mcwagepm          555.8271     65.794      8.448      0.000     426.869     684.785\n",
      "dummy_age_hh          193.7464    282.733      0.685      0.493    -360.421     747.914\n",
      "dummy_educ_hh          17.4279     90.746      0.192      0.848    -160.437     195.293\n",
      "dummy_ethnicity_hh   -322.5224    111.217     -2.900      0.004    -540.511    -104.534\n",
      "dummy_age_sp         -142.2083     62.922     -2.260      0.024    -265.537     -18.879\n",
      "dummy_educ_sp         121.1784     61.498      1.970      0.049       0.641     241.716\n",
      "dummy_dage0_7_97      367.1631    153.437      2.393      0.017      66.422     667.905\n",
      "dummy_dirtfloor97     -95.3251     97.820     -0.974      0.330    -287.055      96.405\n",
      "dummy_electricity97   -61.4388    240.018     -0.256      0.798    -531.883     409.006\n",
      "==============================================================================\n",
      "Omnibus:                    31771.232   Durbin-Watson:                   1.533\n",
      "Prob(Omnibus):                  0.000   Jarque-Bera (JB):          2625306.064\n",
      "Skew:                           4.486   Prob(JB):                         0.00\n",
      "Kurtosis:                      45.695   Cond. No.                     1.18e+16\n",
      "==============================================================================\n",
      "\n",
      "Warnings:\n",
      "[1] Standard Errors assume that the covariance matrix of the errors is correctly specified.\n",
      "[2] The smallest eigenvalue is 2.35e-21. This might indicate that there are\n",
      "strong multicollinearity problems or that the design matrix is singular.\n"
     ]
    }
   ],
   "source": [
    "\n",
    "x = inv_2[['t2_c1_op','wave3', 'wave4', 'nbani197', 'nbani297', 'ha97', 'ha97', 'nbani197', 'nbani297', 'ha97', 'no497', 'big497', 'age_hh', \n",
    "                     'age_hh2', 'female_hh', 'educ1_hh', 'ethnicity_hh', 'age_sp', 'age_sp2', \n",
    "                     'educ1_sp', 'dage0_7_97', 'dage8_17_97', 'dage18_54_97', 'hhsize97', \n",
    "                     'homeown97', 'dirtfloor97', 'electricity97', 'org_faenas', 'min_dist', 'lnup_cwagepm',\n",
    "                     'up2_mcwagepm', 'dummy_age_hh', 'dummy_educ_hh', 'dummy_ethnicity_hh', 'dummy_age_sp',\n",
    "                     'dummy_educ_sp', 'dummy_dage0_7_97', 'dummy_dirtfloor97', 'dummy_electricity97']]\n",
    "y= inv_2[['vani1']]\n",
    "x = sm.add_constant(x)\n",
    "est = sm.OLS(y, x).fit()\n",
    "print(est.summary())"
   ]
  },
  {
   "cell_type": "markdown",
   "metadata": {},
   "source": [
    "### KEY QUESTION 2\n",
    "\n",
    "What is the impact of the program on consumption in the long-term? Is the program improving beneficiaries' living standards after four year of receiving cash transfers? \n",
    "\n",
    "The authors use consumption as a measure of living standards. We are looking at long-term effects, so we will only use the latest wave (wave 7) in the panel, collected in 2003.\n",
    "\n",
    "Note: the authors divide the consumption variable ('consumo_pp_ae2') into 200 bins and drop the top 1 and bottom 200 bins from the sample."
   ]
  },
  {
   "cell_type": "code",
   "execution_count": 41,
   "metadata": {
    "collapsed": true
   },
   "outputs": [],
   "source": [
    "import pandas as pd\n",
    "import numpy as np\n",
    "import statsmodels.api as sm"
   ]
  },
  {
   "cell_type": "code",
   "execution_count": 42,
   "metadata": {
    "collapsed": true
   },
   "outputs": [],
   "source": [
    "#read investment data\n",
    "investments = pd.DataFrame(pd.read_stata(\"investments_data.dta\", convert_categoricals=False))"
   ]
  },
  {
   "cell_type": "code",
   "execution_count": 43,
   "metadata": {
    "collapsed": true
   },
   "outputs": [],
   "source": [
    "#mask wave 7 to get 2003 data and drop obvs with no consumption data\n",
    "investments = investments.loc[(investments['wave']==7) & (investments['consumo']!=0)]\n",
    "investments.dropna(subset=['consumo'], inplace = True)"
   ]
  },
  {
   "cell_type": "code",
   "execution_count": 44,
   "metadata": {
    "collapsed": true
   },
   "outputs": [],
   "source": [
    "#mask out 1 (poorest hh) ntile and 200 (richest hh) ntile of consumption\n",
    "investments =  investments.loc[(investments['consumo_pp_ae2'] > 22.2066) & (investments['consumo_pp_ae2'] < 1118.53)]"
   ]
  },
  {
   "cell_type": "code",
   "execution_count": 45,
   "metadata": {},
   "outputs": [],
   "source": [
    "#dropping na of outcome vars and regressors\n",
    "investments.dropna(subset=['consumo_pp_ae2','t2_c1_op', 'hhsize_ae2_97', 'nbani197', 'nbani297', 'ha97', 'no497',\n",
    "'big497', 'age_hh', 'age_hh2', 'female_hh', 'educ1_hh', 'ethnicity_hh', 'age_sp', 'age_sp2', 'educ1_sp', 'dage0_7_97',\n",
    "'dage8_17_97', 'dage18_54_97', 'homeown97', 'dirtfloor97', 'electricity97','lnup_cwagepm', 'up2_mcwagepm',\n",
    "'dummy_age_hh', 'dummy_educ_hh', 'dummy_ethnicity_hh', 'dummy_age_sp', 'dummy_educ_sp',\n",
    "'dummy_dage0_7_97', 'dummy_dirtfloor97', 'dummy_electricity97'], inplace=True)"
   ]
  },
  {
   "cell_type": "code",
   "execution_count": 46,
   "metadata": {
    "scrolled": true
   },
   "outputs": [
    {
     "name": "stdout",
     "output_type": "stream",
     "text": [
      "                            OLS Regression Results                            \n",
      "==============================================================================\n",
      "Dep. Variable:         consumo_pp_ae2   R-squared:                       0.113\n",
      "Model:                            OLS   Adj. R-squared:                  0.110\n",
      "Method:                 Least Squares   F-statistic:                     43.30\n",
      "Date:                Fri, 01 Dec 2017   Prob (F-statistic):          1.54e-238\n",
      "Time:                        19:48:09   Log-Likelihood:                -64295.\n",
      "No. Observations:               10271   AIC:                         1.287e+05\n",
      "Df Residuals:                   10240   BIC:                         1.289e+05\n",
      "Df Model:                          30                                         \n",
      "Covariance Type:            nonrobust                                         \n",
      "=======================================================================================\n",
      "                          coef    std err          t      P>|t|      [0.025      0.975]\n",
      "---------------------------------------------------------------------------------------\n",
      "const                 250.4312     14.602     17.150      0.000     221.808     279.055\n",
      "t2_c1_op               13.3378      2.591      5.147      0.000       8.259      18.417\n",
      "hhsize_ae2_97          -6.3873      0.903     -7.072      0.000      -8.158      -4.617\n",
      "nbani197                0.5782      1.565      0.369      0.712      -2.490       3.646\n",
      "nbani297                3.4158      0.646      5.285      0.000       2.149       4.683\n",
      "ha97                   -0.2063      0.753     -0.274      0.784      -1.682       1.270\n",
      "no497                   4.7439      4.487      1.057      0.290      -4.051      13.539\n",
      "big497                  9.8443      4.677      2.105      0.035       0.677      19.012\n",
      "age_hh                  0.5649      0.494      1.144      0.253      -0.403       1.533\n",
      "age_hh2                -0.0087      0.005     -1.925      0.054      -0.018       0.000\n",
      "female_hh              29.7933      5.242      5.684      0.000      19.519      40.068\n",
      "educ1_hh              -10.0149      3.357     -2.983      0.003     -16.595      -3.435\n",
      "ethnicity_hh          -41.1123      2.753    -14.931      0.000     -46.510     -35.715\n",
      "age_sp                  0.5312      0.339      1.565      0.118      -0.134       1.196\n",
      "age_sp2                -0.0016      0.003     -0.548      0.584      -0.007       0.004\n",
      "educ1_sp              -21.4130      3.466     -6.178      0.000     -28.207     -14.619\n",
      "dage0_7_97            -24.8254      3.708     -6.695      0.000     -32.094     -17.557\n",
      "dage8_17_97            18.2913      3.344      5.470      0.000      11.737      24.846\n",
      "dage18_54_97           -8.4647      7.293     -1.161      0.246     -22.760       5.830\n",
      "homeown97               1.4288      5.426      0.263      0.792      -9.208      12.065\n",
      "dirtfloor97           -34.0226      2.999    -11.345      0.000     -39.901     -28.144\n",
      "electricity97          16.0794      2.734      5.881      0.000      10.720      21.439\n",
      "lnup_cwagepm            2.6915      0.435      6.185      0.000       1.838       3.545\n",
      "up2_mcwagepm           -7.1193      9.260     -0.769      0.442     -25.270      11.032\n",
      "dummy_age_hh           36.3122     27.890      1.302      0.193     -18.359      90.983\n",
      "dummy_educ_hh         -25.8031     21.601     -1.195      0.232     -68.146      16.539\n",
      "dummy_ethnicity_hh     99.2925     30.925      3.211      0.001      38.674     159.911\n",
      "dummy_age_sp           19.5701     21.249      0.921      0.357     -22.082      61.222\n",
      "dummy_educ_sp          -5.1301     21.049     -0.244      0.807     -46.390      36.130\n",
      "dummy_dage0_7_97    -1.881e-14   8.14e-15     -2.312      0.021   -3.48e-14   -2.86e-15\n",
      "dummy_dirtfloor97     -32.4267     26.032     -1.246      0.213     -83.455      18.602\n",
      "dummy_electricity97   170.5145     73.297      2.326      0.020      26.838     314.191\n",
      "==============================================================================\n",
      "Omnibus:                     4549.465   Durbin-Watson:                   1.720\n",
      "Prob(Omnibus):                  0.000   Jarque-Bera (JB):            29194.287\n",
      "Skew:                           2.028   Prob(JB):                         0.00\n",
      "Kurtosis:                      10.194   Cond. No.                     1.16e+16\n",
      "==============================================================================\n",
      "\n",
      "Warnings:\n",
      "[1] Standard Errors assume that the covariance matrix of the errors is correctly specified.\n",
      "[2] The smallest eigenvalue is 9.44e-22. This might indicate that there are\n",
      "strong multicollinearity problems or that the design matrix is singular.\n"
     ]
    }
   ],
   "source": [
    "#regression\n",
    "x = investments[['t2_c1_op', 'hhsize_ae2_97', 'nbani197', 'nbani297', 'ha97', 'no497',\n",
    "'big497', 'age_hh', 'age_hh2', 'female_hh', 'educ1_hh', 'ethnicity_hh', 'age_sp', 'age_sp2', 'educ1_sp', 'dage0_7_97',\n",
    "'dage8_17_97', 'dage18_54_97', 'homeown97', 'dirtfloor97', 'electricity97','lnup_cwagepm', 'up2_mcwagepm',\n",
    "'dummy_age_hh', 'dummy_educ_hh', 'dummy_ethnicity_hh', 'dummy_age_sp', 'dummy_educ_sp',\n",
    "'dummy_dage0_7_97', 'dummy_dirtfloor97', 'dummy_electricity97']]\n",
    "y= investments[['consumo_pp_ae2']]\n",
    "x = sm.add_constant(x)\n",
    "est = sm.OLS(y, x).fit()\n",
    "print(est.summary())"
   ]
  },
  {
   "cell_type": "markdown",
   "metadata": {},
   "source": [
    "#### The regression result shows that receiving the cash transfers increased household consumption by 13.3 Mexican pesos. This is relevant, given that in 2003 the official minimum wage in the poorest areas of the country was 40 pesos."
   ]
  },
  {
   "cell_type": "markdown",
   "metadata": {},
   "source": [
    "### KEY QUESTION 3 \n",
    "\n",
    "The Oportunidades program is likely to increase families' health status, given that one of the conditions they have to fulfill to receive cash transfers is going to the doctor. Could it be that the increase in living standards is driven by improvements in health rather than agricultural investments? \n",
    "The authors test the hypothesis that better health increases agricultural production (because people work more when they are healthier), and more agricultural production leads to more consumption.\n",
    "\n",
    "For this analysis we will need to merge the investments data with information on health variables, which is contained in the dataset called morbidity. Here again, we are looking at long-term effects, so we will only use the latest wave (wave 7) in the panel, collected in 2003."
   ]
  },
  {
   "cell_type": "code",
   "execution_count": 58,
   "metadata": {
    "collapsed": true
   },
   "outputs": [],
   "source": [
    "import pandas as pd\n",
    "import numpy as np\n",
    "import statsmodels.api as sm"
   ]
  },
  {
   "cell_type": "code",
   "execution_count": 59,
   "metadata": {
    "collapsed": true
   },
   "outputs": [],
   "source": [
    "#read investment data\n",
    "investments = pd.DataFrame(pd.read_stata(\"investments_data.dta\", convert_categoricals=False))"
   ]
  },
  {
   "cell_type": "code",
   "execution_count": 60,
   "metadata": {
    "collapsed": true
   },
   "outputs": [],
   "source": [
    "#mask wave 7 to get 2003 data and drop obvs with no consumption data\n",
    "investments = investments.loc[(investments['wave']==7) & (investments['consumo_pp_ae']!=0)]\n",
    "investments.dropna(subset=['consumo_pp_ae'], inplace = True)\n",
    "\n",
    "#mask out 1 (poorest hh) ntile and 200 (richest hh) ntile of consumption\n",
    "iinvestments =  investments.loc[(investments['consumo_pp_ae2'] > 22.2066) & \n",
    "                                (investments['consumo_pp_ae2'] < 1118.53)]\n"
   ]
  },
  {
   "cell_type": "code",
   "execution_count": 61,
   "metadata": {
    "collapsed": true
   },
   "outputs": [],
   "source": [
    "#read morbidity data\n",
    "morbidity = pd.DataFrame(pd.read_stata(\"adults_morbidity_03.dta\",convert_categoricals=False))\n",
    "\n",
    "# create age squared\n",
    "morbidity['age_sq'] = morbidity['age']**2"
   ]
  },
  {
   "cell_type": "code",
   "execution_count": 62,
   "metadata": {
    "collapsed": true
   },
   "outputs": [],
   "source": [
    "#sorting the columns for joining\n",
    "morbidity.sort_values(by=['folio', 'state', 'muni', 'local', 'wave'], \n",
    "                      ascending=[True, True, True, True, True])\n",
    "\n",
    "investments.sort_values(by=['folio', 'state', 'muni', 'local', 'wave'], \n",
    "                        ascending=[True, True, True, True, True])\n",
    "\n",
    "#merge investment and morbidity data\n",
    "invest_morbi=pd.merge(investments, morbidity, on=('folio', 'state', 'muni', 'local', 'wave'), \n",
    "                      how='inner')\n"
   ]
  },
  {
   "cell_type": "code",
   "execution_count": 65,
   "metadata": {
    "collapsed": true
   },
   "outputs": [],
   "source": [
    "#mask age\n",
    "invest_morbi = invest_morbi.loc[(invest_morbi['age']<65)]\n",
    "\n",
    "#dropna from health outcome variables and regressors\n",
    "invest_morbi.dropna(subset=['t2_c1_op','nbani197', 'nbani297','ha97', 'sick','inactivity', \n",
    "                            'days_sick', 'days_inactivity', 'female', 'hhsize_ae2_97','no497',\n",
    "'big497', 'age_hh', 'age_hh2', 'female_hh', 'educ1_hh', 'ethnicity_hh', 'age_sp', 'age_sp2', 'educ1_sp', 'dage0_7_97',\n",
    "'dage8_17_97', 'dage18_54_97', 'homeown97', 'dirtfloor97', 'electricity97','lnup_cwagepm', 'up2_mcwagepm',\n",
    "'dummy_age_hh', 'dummy_educ_hh', 'dummy_ethnicity_hh', 'dummy_age_sp', 'dummy_educ_sp',\n",
    "'dummy_dage0_7_97', 'dummy_dirtfloor97', 'dummy_electricity97'], inplace=True)"
   ]
  },
  {
   "cell_type": "markdown",
   "metadata": {},
   "source": [
    "#### The regressions' p values for the variables 'sick' and 'inactivity' show that there is no significant difference between the health outcomes for treatment and control groups. \n",
    "\n",
    "#### Therefore, the increased consumption is not associated with improved health.\n",
    "\n",
    "It is worth noting that the variables 'days sick' and 'days inactivity' do have statistically significant differences. They are also significant in the paper's results, but the authors still state that there are no differences in the long-term health between treatment and control. "
   ]
  },
  {
   "cell_type": "code",
   "execution_count": 68,
   "metadata": {},
   "outputs": [
    {
     "name": "stdout",
     "output_type": "stream",
     "text": [
      "                            OLS Regression Results                            \n",
      "==============================================================================\n",
      "Dep. Variable:                   sick   R-squared:                       0.028\n",
      "Model:                            OLS   Adj. R-squared:                  0.027\n",
      "Method:                 Least Squares   F-statistic:                     23.80\n",
      "Date:                Fri, 01 Dec 2017   Prob (F-statistic):          5.83e-129\n",
      "Time:                        20:34:45   Log-Likelihood:                -8178.2\n",
      "No. Observations:               24902   AIC:                         1.642e+04\n",
      "Df Residuals:                   24871   BIC:                         1.667e+04\n",
      "Df Model:                          30                                         \n",
      "Covariance Type:            nonrobust                                         \n",
      "=======================================================================================\n",
      "                          coef    std err          t      P>|t|      [0.025      0.975]\n",
      "---------------------------------------------------------------------------------------\n",
      "const                   0.0003      0.033      0.009      0.993      -0.064       0.064\n",
      "t2_c1_op                0.0050      0.004      1.126      0.260      -0.004       0.014\n",
      "nbani197                0.0007      0.003      0.288      0.773      -0.004       0.006\n",
      "nbani297                0.0026      0.001      2.474      0.013       0.001       0.005\n",
      "ha97                   -0.0027      0.001     -2.197      0.028      -0.005      -0.000\n",
      "age                     0.0057      0.001      5.142      0.000       0.004       0.008\n",
      "age_sq              -2.971e-05   1.47e-05     -2.025      0.043   -5.85e-05   -9.54e-07\n",
      "female                  0.0554      0.004     12.945      0.000       0.047       0.064\n",
      "hhsize_ae2_97          -0.0039      0.001     -2.732      0.006      -0.007      -0.001\n",
      "no497                   0.0089      0.008      1.102      0.271      -0.007       0.025\n",
      "big497                  0.0251      0.008      3.270      0.001       0.010       0.040\n",
      "educ1_hh               -0.0074      0.006     -1.287      0.198      -0.019       0.004\n",
      "ethnicity_hh           -0.0314      0.005     -6.679      0.000      -0.041      -0.022\n",
      "age_sp                  0.0005      0.001      0.860      0.390      -0.001       0.002\n",
      "age_sp2             -6.526e-06   5.47e-06     -1.194      0.233   -1.72e-05    4.19e-06\n",
      "educ1_sp               -0.0086      0.006     -1.437      0.151      -0.020       0.003\n",
      "dage0_7_97             -0.0002      0.006     -0.029      0.977      -0.012       0.012\n",
      "dage8_17_97            -0.0066      0.006     -1.095      0.274      -0.019       0.005\n",
      "dage18_54_97           -0.0291      0.019     -1.512      0.131      -0.067       0.009\n",
      "homeown97              -0.0054      0.010     -0.555      0.579      -0.024       0.014\n",
      "dirtfloor97            -0.0018      0.005     -0.362      0.717      -0.012       0.008\n",
      "electricity97           0.0132      0.005      2.843      0.004       0.004       0.022\n",
      "lnup_cwagepm            0.0005      0.001      0.735      0.462      -0.001       0.002\n",
      "up2_mcwagepm           -0.0206      0.016     -1.285      0.199      -0.052       0.011\n",
      "dummy_age_hh            0.0071      0.049      0.143      0.886      -0.089       0.103\n",
      "dummy_educ_hh          -0.0288      0.035     -0.826      0.409      -0.097       0.040\n",
      "dummy_ethnicity_hh     -0.0480      0.054     -0.895      0.371      -0.153       0.057\n",
      "dummy_age_sp            0.0691      0.039      1.768      0.077      -0.008       0.146\n",
      "dummy_educ_sp          -0.0610      0.039     -1.568      0.117      -0.137       0.015\n",
      "dummy_dage0_7_97    -3.238e-16    6.3e-16     -0.514      0.608   -1.56e-15    9.12e-16\n",
      "dummy_dirtfloor97      -0.0052      0.045     -0.115      0.909      -0.094       0.083\n",
      "dummy_electricity97     0.0577      0.093      0.617      0.537      -0.126       0.241\n",
      "==============================================================================\n",
      "Omnibus:                     8995.757   Durbin-Watson:                   1.639\n",
      "Prob(Omnibus):                  0.000   Jarque-Bera (JB):            23684.936\n",
      "Skew:                           2.053   Prob(JB):                         0.00\n",
      "Kurtosis:                       5.442   Cond. No.                     1.12e+16\n",
      "==============================================================================\n",
      "\n",
      "Warnings:\n",
      "[1] Standard Errors assume that the covariance matrix of the errors is correctly specified.\n",
      "[2] The smallest eigenvalue is 1.5e-21. This might indicate that there are\n",
      "strong multicollinearity problems or that the design matrix is singular.\n",
      "                            OLS Regression Results                            \n",
      "==============================================================================\n",
      "Dep. Variable:             inactivity   R-squared:                       0.012\n",
      "Model:                            OLS   Adj. R-squared:                  0.011\n",
      "Method:                 Least Squares   F-statistic:                     10.24\n",
      "Date:                Fri, 01 Dec 2017   Prob (F-statistic):           2.07e-47\n",
      "Time:                        20:34:45   Log-Likelihood:                 1171.7\n",
      "No. Observations:               24902   AIC:                            -2281.\n",
      "Df Residuals:                   24871   BIC:                            -2030.\n",
      "Df Model:                          30                                         \n",
      "Covariance Type:            nonrobust                                         \n",
      "=======================================================================================\n",
      "                          coef    std err          t      P>|t|      [0.025      0.975]\n",
      "---------------------------------------------------------------------------------------\n",
      "const                   0.0151      0.022      0.675      0.499      -0.029       0.059\n",
      "t2_c1_op                0.0003      0.003      0.094      0.925      -0.006       0.006\n",
      "nbani197               -0.0009      0.002     -0.503      0.615      -0.004       0.003\n",
      "nbani297               -0.0002      0.001     -0.219      0.826      -0.002       0.001\n",
      "ha97                   -0.0005      0.001     -0.618      0.537      -0.002       0.001\n",
      "age                     0.0014      0.001      1.863      0.062   -7.45e-05       0.003\n",
      "age_sq               5.438e-06   1.01e-05      0.540      0.590   -1.43e-05    2.52e-05\n",
      "female                  0.0131      0.003      4.468      0.000       0.007       0.019\n",
      "hhsize_ae2_97          -0.0021      0.001     -2.123      0.034      -0.004      -0.000\n",
      "no497                   0.0008      0.006      0.139      0.889      -0.010       0.012\n",
      "big497                  0.0129      0.005      2.441      0.015       0.003       0.023\n",
      "educ1_hh               -0.0066      0.004     -1.670      0.095      -0.014       0.001\n",
      "ethnicity_hh           -0.0056      0.003     -1.747      0.081      -0.012       0.001\n",
      "age_sp                  0.0005      0.000      1.202      0.229      -0.000       0.001\n",
      "age_sp2              -6.75e-06   3.76e-06     -1.797      0.072   -1.41e-05    6.12e-07\n",
      "educ1_sp                0.0007      0.004      0.181      0.856      -0.007       0.009\n",
      "dage0_7_97            6.46e-05      0.004      0.015      0.988      -0.008       0.008\n",
      "dage8_17_97            -0.0040      0.004     -0.965      0.335      -0.012       0.004\n",
      "dage18_54_97           -0.0155      0.013     -1.174      0.240      -0.041       0.010\n",
      "homeown97               0.0011      0.007      0.163      0.871      -0.012       0.014\n",
      "dirtfloor97             0.0044      0.003      1.254      0.210      -0.002       0.011\n",
      "electricity97           0.0042      0.003      1.302      0.193      -0.002       0.010\n",
      "lnup_cwagepm           -0.0012      0.001     -2.338      0.019      -0.002      -0.000\n",
      "up2_mcwagepm           -0.0122      0.011     -1.109      0.267      -0.034       0.009\n",
      "dummy_age_hh           -0.0274      0.034     -0.811      0.418      -0.094       0.039\n",
      "dummy_educ_hh          -0.0424      0.024     -1.769      0.077      -0.089       0.005\n",
      "dummy_ethnicity_hh      0.0498      0.037      1.352      0.176      -0.022       0.122\n",
      "dummy_age_sp            0.0452      0.027      1.683      0.092      -0.007       0.098\n",
      "dummy_educ_sp          -0.0358      0.027     -1.339      0.180      -0.088       0.017\n",
      "dummy_dage0_7_97     5.608e-16   4.33e-16      1.295      0.195   -2.88e-16    1.41e-15\n",
      "dummy_dirtfloor97      -0.0132      0.031     -0.426      0.670      -0.074       0.048\n",
      "dummy_electricity97     0.1089      0.064      1.697      0.090      -0.017       0.235\n",
      "==============================================================================\n",
      "Omnibus:                    18568.899   Durbin-Watson:                   1.810\n",
      "Prob(Omnibus):                  0.000   Jarque-Bera (JB):           213264.798\n",
      "Skew:                           3.742   Prob(JB):                         0.00\n",
      "Kurtosis:                      15.228   Cond. No.                     1.12e+16\n",
      "==============================================================================\n",
      "\n",
      "Warnings:\n",
      "[1] Standard Errors assume that the covariance matrix of the errors is correctly specified.\n",
      "[2] The smallest eigenvalue is 1.5e-21. This might indicate that there are\n",
      "strong multicollinearity problems or that the design matrix is singular.\n"
     ]
    },
    {
     "name": "stdout",
     "output_type": "stream",
     "text": [
      "                            OLS Regression Results                            \n",
      "==============================================================================\n",
      "Dep. Variable:              days_sick   R-squared:                       0.019\n",
      "Model:                            OLS   Adj. R-squared:                  0.018\n",
      "Method:                 Least Squares   F-statistic:                     15.86\n",
      "Date:                Fri, 01 Dec 2017   Prob (F-statistic):           7.67e-81\n",
      "Time:                        20:34:45   Log-Likelihood:                -68686.\n",
      "No. Observations:               24902   AIC:                         1.374e+05\n",
      "Df Residuals:                   24871   BIC:                         1.377e+05\n",
      "Df Model:                          30                                         \n",
      "Covariance Type:            nonrobust                                         \n",
      "=======================================================================================\n",
      "                          coef    std err          t      P>|t|      [0.025      0.975]\n",
      "---------------------------------------------------------------------------------------\n",
      "const                  -0.3145      0.371     -0.849      0.396      -1.041       0.412\n",
      "t2_c1_op                0.1033      0.050      2.062      0.039       0.005       0.202\n",
      "nbani197               -0.0319      0.029     -1.112      0.266      -0.088       0.024\n",
      "nbani297                0.0311      0.012      2.602      0.009       0.008       0.054\n",
      "ha97                   -0.0262      0.014     -1.876      0.061      -0.053       0.001\n",
      "age                     0.0494      0.013      3.890      0.000       0.024       0.074\n",
      "age_sq                 -0.0002      0.000     -1.206      0.228      -0.001       0.000\n",
      "female                  0.3353      0.049      6.892      0.000       0.240       0.431\n",
      "hhsize_ae2_97           0.0071      0.016      0.436      0.663      -0.025       0.039\n",
      "no497                   0.0272      0.092      0.297      0.766      -0.152       0.207\n",
      "big497                  0.2639      0.087      3.028      0.002       0.093       0.435\n",
      "educ1_hh               -0.0526      0.065     -0.809      0.418      -0.180       0.075\n",
      "ethnicity_hh           -0.3284      0.053     -6.154      0.000      -0.433      -0.224\n",
      "age_sp                  0.0041      0.006      0.655      0.513      -0.008       0.017\n",
      "age_sp2             -2.095e-05   6.21e-05     -0.337      0.736      -0.000       0.000\n",
      "educ1_sp               -0.0724      0.068     -1.065      0.287      -0.206       0.061\n",
      "dage0_7_97             -0.2015      0.070     -2.889      0.004      -0.338      -0.065\n",
      "dage8_17_97            -0.1131      0.069     -1.643      0.100      -0.248       0.022\n",
      "dage18_54_97           -0.1025      0.219     -0.469      0.639      -0.531       0.326\n",
      "homeown97               0.0053      0.110      0.048      0.961      -0.210       0.220\n",
      "dirtfloor97            -0.1043      0.057     -1.816      0.069      -0.217       0.008\n",
      "electricity97           0.0139      0.053      0.263      0.793      -0.089       0.117\n",
      "lnup_cwagepm            0.0016      0.008      0.194      0.846      -0.015       0.018\n",
      "up2_mcwagepm           -0.1236      0.182     -0.678      0.498      -0.481       0.234\n",
      "dummy_age_hh            0.4116      0.559      0.737      0.461      -0.683       1.507\n",
      "dummy_educ_hh          -0.5250      0.397     -1.324      0.186      -1.302       0.252\n",
      "dummy_ethnicity_hh     -0.5453      0.609     -0.895      0.371      -1.740       0.649\n",
      "dummy_age_sp            0.2191      0.444      0.493      0.622      -0.651       1.089\n",
      "dummy_educ_sp          -0.1599      0.442     -0.362      0.717      -1.026       0.706\n",
      "dummy_dage0_7_97    -5.907e-15   7.16e-15     -0.825      0.409   -1.99e-14    8.13e-15\n",
      "dummy_dirtfloor97       0.0985      0.513      0.192      0.848      -0.907       1.104\n",
      "dummy_electricity97     3.9445      1.062      3.716      0.000       1.864       6.025\n",
      "==============================================================================\n",
      "Omnibus:                    25976.322   Durbin-Watson:                   1.798\n",
      "Prob(Omnibus):                  0.000   Jarque-Bera (JB):          1288134.676\n",
      "Skew:                           5.439   Prob(JB):                         0.00\n",
      "Kurtosis:                      36.513   Cond. No.                     1.12e+16\n",
      "==============================================================================\n",
      "\n",
      "Warnings:\n",
      "[1] Standard Errors assume that the covariance matrix of the errors is correctly specified.\n",
      "[2] The smallest eigenvalue is 1.5e-21. This might indicate that there are\n",
      "strong multicollinearity problems or that the design matrix is singular.\n",
      "                            OLS Regression Results                            \n",
      "==============================================================================\n",
      "Dep. Variable:        days_inactivity   R-squared:                       0.008\n",
      "Model:                            OLS   Adj. R-squared:                  0.007\n",
      "Method:                 Least Squares   F-statistic:                     6.648\n",
      "Date:                Fri, 01 Dec 2017   Prob (F-statistic):           8.42e-27\n",
      "Time:                        20:34:45   Log-Likelihood:                -58932.\n",
      "No. Observations:               24902   AIC:                         1.179e+05\n",
      "Df Residuals:                   24871   BIC:                         1.182e+05\n",
      "Df Model:                          30                                         \n",
      "Covariance Type:            nonrobust                                         \n",
      "=======================================================================================\n",
      "                          coef    std err          t      P>|t|      [0.025      0.975]\n",
      "---------------------------------------------------------------------------------------\n",
      "const                   0.1505      0.250      0.601      0.548      -0.340       0.641\n",
      "t2_c1_op               -0.0710      0.034     -2.097      0.036      -0.137      -0.005\n",
      "nbani197               -0.0216      0.019     -1.113      0.266      -0.060       0.016\n",
      "nbani297               -0.0066      0.008     -0.823      0.410      -0.022       0.009\n",
      "ha97                   -0.0067      0.009     -0.711      0.477      -0.025       0.012\n",
      "age                     0.0093      0.009      1.089      0.276      -0.007       0.026\n",
      "age_sq               7.253e-05      0.000      0.644      0.520      -0.000       0.000\n",
      "female                  0.0122      0.033      0.371      0.711      -0.052       0.077\n",
      "hhsize_ae2_97          -0.0022      0.011     -0.198      0.843      -0.024       0.019\n",
      "no497                   0.0212      0.062      0.342      0.732      -0.100       0.143\n",
      "big497                  0.1696      0.059      2.880      0.004       0.054       0.285\n",
      "educ1_hh               -0.0305      0.044     -0.695      0.487      -0.117       0.056\n",
      "ethnicity_hh           -0.0574      0.036     -1.591      0.112      -0.128       0.013\n",
      "age_sp                  0.0049      0.004      1.151      0.250      -0.003       0.013\n",
      "age_sp2             -3.207e-05    4.2e-05     -0.764      0.445      -0.000    5.02e-05\n",
      "educ1_sp                0.0165      0.046      0.358      0.720      -0.074       0.107\n",
      "dage0_7_97             -0.0769      0.047     -1.631      0.103      -0.169       0.016\n",
      "dage8_17_97            -0.0904      0.047     -1.943      0.052      -0.182       0.001\n",
      "dage18_54_97           -0.0744      0.148     -0.503      0.615      -0.364       0.215\n",
      "homeown97               0.0087      0.074      0.117      0.907      -0.137       0.154\n",
      "dirtfloor97            -0.0365      0.039     -0.940      0.347      -0.113       0.040\n",
      "electricity97           0.0077      0.036      0.215      0.830      -0.062       0.077\n",
      "lnup_cwagepm           -0.0134      0.006     -2.345      0.019      -0.025      -0.002\n",
      "up2_mcwagepm           -0.0798      0.123     -0.647      0.518      -0.321       0.162\n",
      "dummy_age_hh           -0.0088      0.378     -0.023      0.981      -0.749       0.731\n",
      "dummy_educ_hh          -0.5170      0.268     -1.928      0.054      -1.042       0.008\n",
      "dummy_ethnicity_hh      0.6293      0.412      1.528      0.127      -0.178       1.436\n",
      "dummy_age_sp            0.0201      0.300      0.067      0.947      -0.568       0.608\n",
      "dummy_educ_sp           0.1081      0.299      0.362      0.717      -0.477       0.694\n",
      "dummy_dage0_7_97     4.767e-15   4.84e-15      0.985      0.325   -4.72e-15    1.43e-14\n",
      "dummy_dirtfloor97       0.0181      0.347      0.052      0.958      -0.662       0.698\n",
      "dummy_electricity97     2.1822      0.718      3.041      0.002       0.776       3.589\n",
      "==============================================================================\n",
      "Omnibus:                    35369.405   Durbin-Watson:                   1.834\n",
      "Prob(Omnibus):                  0.000   Jarque-Bera (JB):          7847237.985\n",
      "Skew:                           8.705   Prob(JB):                         0.00\n",
      "Kurtosis:                      88.205   Cond. No.                     1.12e+16\n",
      "==============================================================================\n",
      "\n",
      "Warnings:\n",
      "[1] Standard Errors assume that the covariance matrix of the errors is correctly specified.\n",
      "[2] The smallest eigenvalue is 1.5e-21. This might indicate that there are\n",
      "strong multicollinearity problems or that the design matrix is singular.\n"
     ]
    }
   ],
   "source": [
    "#regressions loop\n",
    "health_outcomes= ['sick','inactivity','days_sick', 'days_inactivity']\n",
    "for v in health_outcomes:\n",
    "    \n",
    "    x = invest_morbi[['t2_c1_op', 'nbani197', 'nbani297', 'ha97', 'age','age_sq', 'female', 'hhsize_ae2_97','no497',\n",
    "'big497', 'educ1_hh', 'ethnicity_hh', 'age_sp', 'age_sp2', 'educ1_sp', 'dage0_7_97',\n",
    "'dage8_17_97', 'dage18_54_97', 'homeown97', 'dirtfloor97', 'electricity97','lnup_cwagepm', 'up2_mcwagepm',\n",
    "'dummy_age_hh', 'dummy_educ_hh', 'dummy_ethnicity_hh', 'dummy_age_sp', 'dummy_educ_sp',\n",
    "'dummy_dage0_7_97', 'dummy_dirtfloor97', 'dummy_electricity97']]\n",
    " \n",
    "    y= invest_morbi[[v]]\n",
    "    x = sm.add_constant(x)\n",
    "    est = sm.OLS(y, x).fit()\n",
    "    print(est.summary())"
   ]
  },
  {
   "cell_type": "markdown",
   "metadata": {},
   "source": [
    "### KEY QUESTION 4\n",
    "\n",
    "Is there any other variable that masks the impact of CCT on agricultural investment?"
   ]
  },
  {
   "cell_type": "markdown",
   "metadata": {
    "collapsed": true
   },
   "source": [
    "The original regression checks the effect of Conditional Cash Transfer(CCT) on six agricultural investment indicators while controlling for >30 other variables such as age of household, ethnicity as well as indicators of economic status. \n",
    "\n",
    "We wanted to check whether the existence of manufacturing employers in a municipality affects the relationship between CCT and agricultural investment. For example the effect might be overstated in municipalities with high level of industrial output because residents might be less reliant on agricultural income. Therefore, we decided to include the variable “Total income for the supply of Manufacturing goods and services\" for municipality level as this indicates presence of manufacturing jobs. \n",
    "\n",
    "To check this, we scraped an additional variable from Mexico's National Institute of Statistics and Geography (INEGI) website. This new independent variable indicates the manufacturing output of the municipality."
   ]
  },
  {
   "cell_type": "code",
   "execution_count": 112,
   "metadata": {
    "collapsed": true
   },
   "outputs": [],
   "source": [
    "import pandas as pd\n",
    "import requests\n",
    "from bs4 import BeautifulSoup as bs"
   ]
  },
  {
   "cell_type": "code",
   "execution_count": 113,
   "metadata": {
    "collapsed": true
   },
   "outputs": [],
   "source": [
    "# Read the STATA dataset \"investments_data\" into pandas\n",
    "inv_2 = pd.DataFrame(pd.read_stata(\"investments_data.dta\", convert_categoricals=False))"
   ]
  },
  {
   "cell_type": "code",
   "execution_count": 114,
   "metadata": {
    "collapsed": true
   },
   "outputs": [],
   "source": [
    "#In order to get the set of municipalities included in the experiment,\n",
    "#we recreated the INEGI codes from the data available in the investment data set\n",
    "\n",
    "# the codes are 5 digits (ex. 12004) where the first two digits are the state(12)\n",
    "# and the next three(004) are the municipality in that state\n",
    "\n",
    "inv_2['st_muni']=inv_2['state'].astype(str).str.cat(inv_2['muni'].astype(str).str.zfill(3))\n",
    "\n",
    "#Get all unique INEGI municipality codes\n",
    "c=inv_2['st_muni'].unique().tolist()\n"
   ]
  },
  {
   "cell_type": "code",
   "execution_count": 115,
   "metadata": {},
   "outputs": [],
   "source": [
    "# Scrape the hidden API from the INEGI website for the\n",
    "# indicator code \"5300000098\"\n",
    "manu_data=pd.DataFrame()\n",
    "for line in c:\n",
    "    # Some municipalities dont have data for the indicator\n",
    "    # Bypassing the error messages generated by such munis\n",
    "    try:\n",
    "        link=(\"http://www.beta.inegi.org.mx/app/api/indicadores/interna_v1_1//ValorIndicador/5300000098/{}/null/es/null/null/3/pd/null/null/null/null/null/xml/563cbaa8-58bb-fef8-6763-1f1dae318f99\".format(line))\n",
    "        resp = requests.get(link)\n",
    "        xml = resp.content\n",
    "        soup = bs(xml, \"lxml\")\n",
    "\n",
    "        #Find the name of the municipalities\n",
    "        name=soup.find(\"municipality\")\n",
    "        n=name.find('a:value').contents[0]\n",
    "\n",
    "        #Find the data for the indicator for all the avalilable years\n",
    "        values=soup.find(\"value\").findChildren()\n",
    "        v=[]\n",
    "        for i in range(0,len(values)):\n",
    "            v.append(values[i].contents[0])\n",
    "\n",
    "        #Find years for which data is available\n",
    "        period=soup.find(\"periods\").findChildren()\n",
    "        p3=period[int(len(period)/4+1)].findChildren()\n",
    "        p=[]\n",
    "        # length of the tag varies according to the number of years\n",
    "        # for which data is available\n",
    "        if len(p3)==9:\n",
    "            for i in (2,5,8):\n",
    "                p.append(p3[i].contents[0])\n",
    "            colnames=[\"code\",\"name\",p[0],p[1],p[2]]\n",
    "            list=[(line,n,v[0],v[1],v[2])]\n",
    "        elif len(p3)==6:\n",
    "            for i in (2,5):\n",
    "                p.append(p3[i].contents[0])\n",
    "            colnames=[\"code\",\"name\",p[0],p[1]]\n",
    "            list=[(line,n,v[0],v[1])]\n",
    "        else:\n",
    "            p.append(p3[2].contents[0])\n",
    "            colnames=[\"code\",\"name\",p[0]]\n",
    "            list=[(line,n,v[0])]\n",
    "\n",
    "        #Append all data for the specific muni into \"data\"\n",
    "        data=pd.DataFrame(list,columns=colnames)\n",
    "        #Apend data from particular muni into overall dataset\n",
    "        manu_data=manu_data.append(data,ignore_index=True)\n",
    "\n",
    "    except:\n",
    "        pass\n",
    "\n",
    "# Write the file as CSV\n",
    "manu_data.to_csv(\"muni_manu_data.csv\", sep=',', encoding='utf-8',index=False)\n"
   ]
  },
  {
   "cell_type": "markdown",
   "metadata": {},
   "source": [
    "#### To retrieve information"
   ]
  },
  {
   "cell_type": "markdown",
   "metadata": {
    "collapsed": true
   },
   "source": [
    "We found the list of municipalities included in the data set. See lines 1=17\n",
    "Using Chrome's developer tools, we tracked network activity that the page is conducting to get the information for display\n",
    "The webpage was using the the following hidden API:\n",
    "            http://www.beta.inegi.org.mx/app/api/indicadores/interna_v1_1//ValorIndicador/5300000098/12002/null/es/null/null/3/pd/null/null/null/null/null/xml/563cbaa8-58bb-fef8-6763-1f1dae318f99\n",
    "    \n",
    "5300000098 is the indicator number for the desired variable and 12002 is the code for the municipality that we requesting the data for.\n",
    "\n",
    "We used this API which used a hidden public key and allowed unrestricted access to the data (lines 18 - 61)\n",
    "\n",
    "We retrieved the value of the variable for the 191 municipalities included in the experiment.\n"
   ]
  },
  {
   "cell_type": "code",
   "execution_count": 116,
   "metadata": {
    "collapsed": true
   },
   "outputs": [],
   "source": [
    "import pandas as pd\n",
    "import numpy as np\n",
    "import statsmodels.api as sm\n",
    "import matplotlib.pyplot as plt"
   ]
  },
  {
   "cell_type": "code",
   "execution_count": 117,
   "metadata": {
    "collapsed": true
   },
   "outputs": [],
   "source": [
    "#read data\n",
    "inv_1 = pd.DataFrame(pd.read_stata(\"investments_data.dta\", convert_categoricals=False))\n",
    "muni_data=pd.DataFrame(pd.read_csv(\"muni_manu_data.csv\"))"
   ]
  },
  {
   "cell_type": "markdown",
   "metadata": {},
   "source": [
    "Merge the scraped csv file with the investment data set at municipality level; using the the newly created variable ‘st_muni’ to reflect the INEGI codes.(line 14-29)\n",
    "\n",
    "We decided to use 1998 data as it was deemed to be the most representative of the period under consideration. Then we ran regression. (lines 46-68)\n"
   ]
  },
  {
   "cell_type": "code",
   "execution_count": 118,
   "metadata": {
    "collapsed": true
   },
   "outputs": [],
   "source": [
    "##Merge inv_1 with muni data on st_muni and convert 1998 data into integer for regression\n",
    "\n",
    "#Create the st_muni variable in Investment data\n",
    "inv_1['st_muni']=(inv_1['state'].astype(str).str.cat(inv_1['muni'].astype(str).str.zfill(3)))\n",
    "inv_1['st_muni']=inv_1['st_muni'].astype(int)\n",
    "\n",
    "muni_data=muni_data.rename(columns = {'code':'st_muni'})\n",
    "\n",
    "#replace ',' and trailing characters\n",
    "muni_data['1998']=muni_data['1998'].str.replace(',', '')\n",
    "muni_data['1998']=muni_data['1998'].str.strip('.00')\n",
    "\n",
    "muni_data['2003']=muni_data['2003'].str.replace(',', '')\n",
    "muni_data['2003']=muni_data['2003'].str.strip('.00')\n",
    "\n",
    "# merging on\n",
    "inv_2=pd.merge(inv_1, muni_data, on=('st_muni'), how='inner')"
   ]
  },
  {
   "cell_type": "code",
   "execution_count": 119,
   "metadata": {
    "collapsed": true
   },
   "outputs": [],
   "source": [
    "#drop nas and convert to int and convert to billion pesos (original data was in '000 pesos)\n",
    "inv_2 = inv_2.dropna(subset = ['1998'])\n",
    "inv_2['1998']=inv_2['1998'].astype(int)/1000000\n",
    "\n",
    "#mask waves 2,3, 4\n",
    "inv_2 = inv_2.loc[inv_2['wave'].isin([2,3,4])]\n",
    "\n",
    "#drop obs with missing ani1, ani2, land, ha, me (relevant outcome vars)\n",
    "inv_2.dropna(subset=['ani1', 'ani2', 'land', 'me', 'ha'], inplace=True)\n",
    "\n",
    "#create dummies for waves 2,3,4\n",
    "inv_2_waves = pd.get_dummies(inv_2['wave'])\n",
    "inv_2_waves.rename(columns={2: 'wave2', 3: 'wave3', 4: 'wave4'}, inplace=True)\n",
    "inv_2 = pd.concat([inv_2, inv_2_waves], axis=1)\n"
   ]
  },
  {
   "cell_type": "code",
   "execution_count": 120,
   "metadata": {},
   "outputs": [
    {
     "name": "stdout",
     "output_type": "stream",
     "text": [
      "                            OLS Regression Results                            \n",
      "==============================================================================\n",
      "Dep. Variable:                   ani1   R-squared:                       0.165\n",
      "Model:                            OLS   Adj. R-squared:                  0.164\n",
      "Method:                 Least Squares   F-statistic:                     196.3\n",
      "Date:                Fri, 01 Dec 2017   Prob (F-statistic):               0.00\n",
      "Time:                        21:52:07   Log-Likelihood:                -17141.\n",
      "No. Observations:               32855   AIC:                         3.435e+04\n",
      "Df Residuals:                   32821   BIC:                         3.464e+04\n",
      "Df Model:                          33                                         \n",
      "Covariance Type:            nonrobust                                         \n",
      "=======================================================================================\n",
      "                          coef    std err          t      P>|t|      [0.025      0.975]\n",
      "---------------------------------------------------------------------------------------\n",
      "const                  -0.1842      0.043     -4.266      0.000      -0.269      -0.100\n",
      "t2_c1_op                0.0411      0.005      8.768      0.000       0.032       0.050\n",
      "nbani197                0.0910      0.003     33.557      0.000       0.086       0.096\n",
      "nbani297                0.0227      0.001     19.281      0.000       0.020       0.025\n",
      "ha97                    0.0146      0.001     15.233      0.000       0.013       0.017\n",
      "1998                   -0.0121      0.004     -3.195      0.001      -0.019      -0.005\n",
      "age_hh                  0.0034      0.001      2.423      0.015       0.001       0.006\n",
      "age_hh2             -3.088e-05   1.34e-05     -2.296      0.022   -5.72e-05   -4.52e-06\n",
      "female_hh              -0.0350      0.013     -2.798      0.005      -0.060      -0.010\n",
      "educ1_hh                0.0280      0.006      4.405      0.000       0.016       0.040\n",
      "ethnicity_hh           -0.1287      0.005    -24.848      0.000      -0.139      -0.119\n",
      "age_sp                  0.0028      0.002      1.772      0.076      -0.000       0.006\n",
      "age_sp2             -2.496e-05   1.71e-05     -1.456      0.145   -5.86e-05    8.64e-06\n",
      "educ1_sp                0.0067      0.007      1.008      0.313      -0.006       0.020\n",
      "dage0_7_97             -0.0314      0.007     -4.462      0.000      -0.045      -0.018\n",
      "dage8_17_97             0.0175      0.006      2.717      0.007       0.005       0.030\n",
      "dage18_54_97            0.0272      0.013      2.157      0.031       0.002       0.052\n",
      "dage55p_97              0.0292      0.007      4.069      0.000       0.015       0.043\n",
      "hhsize97                0.0154      0.001     11.028      0.000       0.013       0.018\n",
      "homeown97               0.0549      0.009      5.852      0.000       0.036       0.073\n",
      "dirtfloor97            -0.0060      0.005     -1.111      0.267      -0.017       0.005\n",
      "electricity97           0.0130      0.005      2.620      0.009       0.003       0.023\n",
      "org_faenas              0.0204      0.007      2.931      0.003       0.007       0.034\n",
      "min_dist               -0.0006   5.91e-05    -10.616      0.000      -0.001      -0.001\n",
      "lnup_cwagepm            0.0197      0.005      4.174      0.000       0.010       0.029\n",
      "up2_mcwagepm            0.1102      0.031      3.545      0.000       0.049       0.171\n",
      "dummy_age_hh            0.1346      0.134      1.008      0.313      -0.127       0.396\n",
      "dummy_educ_hh           0.0536      0.043      1.251      0.211      -0.030       0.138\n",
      "dummy_ethnicity_hh     -0.0802      0.053     -1.528      0.127      -0.183       0.023\n",
      "dummy_age_sp           -0.0665      0.030     -2.238      0.025      -0.125      -0.008\n",
      "dummy_educ_sp           0.0325      0.029      1.119      0.263      -0.024       0.089\n",
      "dummy_dage0_7_97        0.1038      0.073      1.431      0.152      -0.038       0.246\n",
      "dummy_dirtfloor97       0.0794      0.046      1.718      0.086      -0.011       0.170\n",
      "dummy_electricity97     0.0801      0.113      0.707      0.480      -0.142       0.302\n",
      "==============================================================================\n",
      "Omnibus:                     3076.012   Durbin-Watson:                   1.425\n",
      "Prob(Omnibus):                  0.000   Jarque-Bera (JB):             3792.832\n",
      "Skew:                           0.813   Prob(JB):                         0.00\n",
      "Kurtosis:                       2.646   Cond. No.                     1.87e+05\n",
      "==============================================================================\n",
      "\n",
      "Warnings:\n",
      "[1] Standard Errors assume that the covariance matrix of the errors is correctly specified.\n",
      "[2] The condition number is large, 1.87e+05. This might indicate that there are\n",
      "strong multicollinearity or other numerical problems.\n",
      "                            OLS Regression Results                            \n",
      "==============================================================================\n",
      "Dep. Variable:                   ani2   R-squared:                       0.050\n",
      "Model:                            OLS   Adj. R-squared:                  0.049\n",
      "Method:                 Least Squares   F-statistic:                     51.86\n",
      "Date:                Fri, 01 Dec 2017   Prob (F-statistic):               0.00\n",
      "Time:                        21:52:08   Log-Likelihood:                -19182.\n",
      "No. Observations:               32855   AIC:                         3.843e+04\n",
      "Df Residuals:                   32821   BIC:                         3.872e+04\n",
      "Df Model:                          33                                         \n",
      "Covariance Type:            nonrobust                                         \n",
      "=======================================================================================\n",
      "                          coef    std err          t      P>|t|      [0.025      0.975]\n",
      "---------------------------------------------------------------------------------------\n",
      "const                   0.0683      0.046      1.486      0.137      -0.022       0.158\n",
      "t2_c1_op                0.0357      0.005      7.140      0.000       0.026       0.045\n",
      "nbani197                0.0165      0.003      5.723      0.000       0.011       0.022\n",
      "nbani297                0.0192      0.001     15.386      0.000       0.017       0.022\n",
      "ha97                    0.0072      0.001      7.013      0.000       0.005       0.009\n",
      "1998                   -0.0039      0.004     -0.963      0.336      -0.012       0.004\n",
      "age_hh                  0.0056      0.001      3.782      0.000       0.003       0.009\n",
      "age_hh2             -5.744e-05   1.43e-05     -4.014      0.000   -8.55e-05   -2.94e-05\n",
      "female_hh               0.0619      0.013      4.644      0.000       0.036       0.088\n",
      "educ1_hh               -0.0063      0.007     -0.930      0.352      -0.020       0.007\n",
      "ethnicity_hh           -0.0376      0.006     -6.827      0.000      -0.048      -0.027\n",
      "age_sp                  0.0047      0.002      2.739      0.006       0.001       0.008\n",
      "age_sp2             -3.175e-05   1.82e-05     -1.740      0.082   -6.75e-05    4.01e-06\n",
      "educ1_sp               -0.0217      0.007     -3.053      0.002      -0.036      -0.008\n",
      "dage0_7_97             -0.0111      0.008     -1.485      0.138      -0.026       0.004\n",
      "dage8_17_97             0.0250      0.007      3.644      0.000       0.012       0.038\n",
      "dage18_54_97            0.0934      0.013      6.952      0.000       0.067       0.120\n",
      "dage55p_97              0.0379      0.008      4.962      0.000       0.023       0.053\n",
      "hhsize97                0.0055      0.001      3.686      0.000       0.003       0.008\n",
      "homeown97               0.0909      0.010      9.110      0.000       0.071       0.110\n",
      "dirtfloor97             0.0098      0.006      1.700      0.089      -0.002       0.021\n",
      "electricity97          -0.0052      0.005     -0.987      0.323      -0.016       0.005\n",
      "org_faenas              0.0317      0.007      4.287      0.000       0.017       0.046\n",
      "min_dist               -0.0001   6.29e-05     -1.890      0.059      -0.000    4.43e-06\n",
      "lnup_cwagepm            0.0239      0.005      4.755      0.000       0.014       0.034\n",
      "up2_mcwagepm            0.1578      0.033      4.768      0.000       0.093       0.223\n",
      "dummy_age_hh            0.0789      0.142      0.556      0.578      -0.200       0.357\n",
      "dummy_educ_hh          -0.0706      0.046     -1.549      0.121      -0.160       0.019\n",
      "dummy_ethnicity_hh      0.0172      0.056      0.308      0.758      -0.092       0.127\n",
      "dummy_age_sp           -0.0504      0.032     -1.595      0.111      -0.112       0.012\n",
      "dummy_educ_sp          -0.0472      0.031     -1.529      0.126      -0.108       0.013\n",
      "dummy_dage0_7_97        0.1992      0.077      2.580      0.010       0.048       0.350\n",
      "dummy_dirtfloor97       0.0752      0.049      1.531      0.126      -0.021       0.172\n",
      "dummy_electricity97    -0.1382      0.121     -1.146      0.252      -0.375       0.098\n",
      "==============================================================================\n",
      "Omnibus:                     7895.260   Durbin-Watson:                   1.643\n",
      "Prob(Omnibus):                  0.000   Jarque-Bera (JB):             5979.022\n",
      "Skew:                          -0.945   Prob(JB):                         0.00\n",
      "Kurtosis:                       2.109   Cond. No.                     1.87e+05\n",
      "==============================================================================\n",
      "\n",
      "Warnings:\n",
      "[1] Standard Errors assume that the covariance matrix of the errors is correctly specified.\n",
      "[2] The condition number is large, 1.87e+05. This might indicate that there are\n",
      "strong multicollinearity or other numerical problems.\n"
     ]
    },
    {
     "name": "stdout",
     "output_type": "stream",
     "text": [
      "                            OLS Regression Results                            \n",
      "==============================================================================\n",
      "Dep. Variable:                   land   R-squared:                       0.141\n",
      "Model:                            OLS   Adj. R-squared:                  0.140\n",
      "Method:                 Least Squares   F-statistic:                     163.1\n",
      "Date:                Fri, 01 Dec 2017   Prob (F-statistic):               0.00\n",
      "Time:                        21:52:08   Log-Likelihood:                -20634.\n",
      "No. Observations:               32855   AIC:                         4.134e+04\n",
      "Df Residuals:                   32821   BIC:                         4.162e+04\n",
      "Df Model:                          33                                         \n",
      "Covariance Type:            nonrobust                                         \n",
      "=======================================================================================\n",
      "                          coef    std err          t      P>|t|      [0.025      0.975]\n",
      "---------------------------------------------------------------------------------------\n",
      "const                   0.0942      0.048      1.961      0.050    6.78e-05       0.188\n",
      "t2_c1_op                0.0290      0.005      5.557      0.000       0.019       0.039\n",
      "nbani197                0.0339      0.003     11.248      0.000       0.028       0.040\n",
      "nbani297                0.0129      0.001      9.836      0.000       0.010       0.015\n",
      "ha97                    0.0382      0.001     35.726      0.000       0.036       0.040\n",
      "1998                   -0.0338      0.004     -8.044      0.000      -0.042      -0.026\n",
      "age_hh                  0.0141      0.002      9.087      0.000       0.011       0.017\n",
      "age_hh2                -0.0001    1.5e-05     -8.230      0.000      -0.000   -9.38e-05\n",
      "female_hh              -0.0901      0.014     -6.471      0.000      -0.117      -0.063\n",
      "educ1_hh                0.0258      0.007      3.658      0.000       0.012       0.040\n",
      "ethnicity_hh            0.0941      0.006     16.340      0.000       0.083       0.105\n",
      "age_sp                 -0.0011      0.002     -0.620      0.535      -0.005       0.002\n",
      "age_sp2              4.544e-06   1.91e-05      0.238      0.812   -3.28e-05    4.19e-05\n",
      "educ1_sp                0.0201      0.007      2.697      0.007       0.005       0.035\n",
      "dage0_7_97             -0.0173      0.008     -2.205      0.027      -0.033      -0.002\n",
      "dage8_17_97             0.0260      0.007      3.628      0.000       0.012       0.040\n",
      "dage18_54_97            0.0146      0.014      1.037      0.300      -0.013       0.042\n",
      "dage55p_97              0.0423      0.008      5.295      0.000       0.027       0.058\n",
      "hhsize97                0.0100      0.002      6.434      0.000       0.007       0.013\n",
      "homeown97               0.1677      0.010     16.081      0.000       0.147       0.188\n",
      "dirtfloor97             0.0054      0.006      0.888      0.374      -0.006       0.017\n",
      "electricity97           0.0091      0.006      1.644      0.100      -0.002       0.020\n",
      "org_faenas             -0.0262      0.008     -3.392      0.001      -0.041      -0.011\n",
      "min_dist                0.0004   6.57e-05      5.425      0.000       0.000       0.000\n",
      "lnup_cwagepm           -0.0401      0.005     -7.625      0.000      -0.050      -0.030\n",
      "up2_mcwagepm           -0.1948      0.035     -5.634      0.000      -0.263      -0.127\n",
      "dummy_age_hh            0.2819      0.148      1.898      0.058      -0.009       0.573\n",
      "dummy_educ_hh          -0.0354      0.048     -0.742      0.458      -0.129       0.058\n",
      "dummy_ethnicity_hh     -0.0621      0.058     -1.063      0.288      -0.177       0.052\n",
      "dummy_age_sp           -0.0044      0.033     -0.133      0.894      -0.069       0.060\n",
      "dummy_educ_sp          -0.0183      0.032     -0.566      0.571      -0.082       0.045\n",
      "dummy_dage0_7_97       -0.0264      0.081     -0.327      0.743      -0.185       0.132\n",
      "dummy_dirtfloor97       0.0544      0.051      1.060      0.289      -0.046       0.155\n",
      "dummy_electricity97     0.1713      0.126      1.359      0.174      -0.076       0.418\n",
      "==============================================================================\n",
      "Omnibus:                      651.537   Durbin-Watson:                   1.563\n",
      "Prob(Omnibus):                  0.000   Jarque-Bera (JB):             3200.842\n",
      "Skew:                          -0.355   Prob(JB):                         0.00\n",
      "Kurtosis:                       1.646   Cond. No.                     1.87e+05\n",
      "==============================================================================\n",
      "\n",
      "Warnings:\n",
      "[1] Standard Errors assume that the covariance matrix of the errors is correctly specified.\n",
      "[2] The condition number is large, 1.87e+05. This might indicate that there are\n",
      "strong multicollinearity or other numerical problems.\n",
      "                            OLS Regression Results                            \n",
      "==============================================================================\n",
      "Dep. Variable:                  vani1   R-squared:                       0.203\n",
      "Model:                            OLS   Adj. R-squared:                  0.202\n",
      "Method:                 Least Squares   F-statistic:                     253.4\n",
      "Date:                Fri, 01 Dec 2017   Prob (F-statistic):               0.00\n",
      "Time:                        21:52:08   Log-Likelihood:            -2.6864e+05\n",
      "No. Observations:               32855   AIC:                         5.373e+05\n",
      "Df Residuals:                   32821   BIC:                         5.376e+05\n",
      "Df Model:                          33                                         \n",
      "Covariance Type:            nonrobust                                         \n",
      "=======================================================================================\n",
      "                          coef    std err          t      P>|t|      [0.025      0.975]\n",
      "---------------------------------------------------------------------------------------\n",
      "const                -640.3381     91.160     -7.024      0.000    -819.015    -461.662\n",
      "t2_c1_op               67.5609      9.905      6.821      0.000      48.147      86.975\n",
      "nbani197              300.6727      5.722     52.548      0.000     289.458     311.888\n",
      "nbani297               53.8871      2.481     21.722      0.000      49.025      58.749\n",
      "ha97                   25.5588      2.029     12.594      0.000      21.581      29.537\n",
      "1998                   70.3598      7.977      8.820      0.000      54.724      85.996\n",
      "age_hh                  5.5480      2.941      1.886      0.059      -0.217      11.313\n",
      "age_hh2                -0.0506      0.028     -1.782      0.075      -0.106       0.005\n",
      "female_hh             -87.8354     26.425     -3.324      0.001    -139.629     -36.042\n",
      "educ1_hh               37.2847     13.396      2.783      0.005      11.028      63.541\n",
      "ethnicity_hh         -180.4542     10.935    -16.503      0.000    -201.887    -159.022\n",
      "age_sp                  7.6345      3.388      2.253      0.024       0.994      14.275\n",
      "age_sp2                -0.0735      0.036     -2.030      0.042      -0.144      -0.003\n",
      "educ1_sp               -7.6611     14.108     -0.543      0.587     -35.314      19.992\n",
      "dage0_7_97            -62.3960     14.878     -4.194      0.000     -91.557     -33.235\n",
      "dage8_17_97           -10.6442     13.611     -0.782      0.434     -37.323      16.035\n",
      "dage18_54_97          -19.7148     26.656     -0.740      0.460     -71.961      32.532\n",
      "dage55p_97             25.6545     15.151      1.693      0.090      -4.043      55.352\n",
      "hhsize97               24.2433      2.939      8.250      0.000      18.484      30.003\n",
      "homeown97              43.8158     19.790      2.214      0.027       5.026      82.605\n",
      "dirtfloor97           -33.1105     11.482     -2.884      0.004     -55.615     -10.606\n",
      "electricity97          33.5038     10.487      3.195      0.001      12.949      54.059\n",
      "org_faenas            -41.9275     14.685     -2.855      0.004     -70.711     -13.144\n",
      "min_dist               -1.0985      0.125     -8.805      0.000      -1.343      -0.854\n",
      "lnup_cwagepm           86.6880      9.975      8.691      0.000      67.137     106.239\n",
      "up2_mcwagepm          501.7651     65.634      7.645      0.000     373.120     630.410\n",
      "dummy_age_hh          192.9971    281.816      0.685      0.493    -359.372     745.366\n",
      "dummy_educ_hh          11.9321     90.447      0.132      0.895    -165.348     189.212\n",
      "dummy_ethnicity_hh   -315.2640    110.837     -2.844      0.004    -532.509     -98.019\n",
      "dummy_age_sp         -136.6546     62.722     -2.179      0.029    -259.593     -13.716\n",
      "dummy_educ_sp         109.2828     61.291      1.783      0.075     -10.851     229.416\n",
      "dummy_dage0_7_97      369.0984    153.107      2.411      0.016      69.003     669.194\n",
      "dummy_dirtfloor97    -112.0493     97.502     -1.149      0.250    -303.157      79.059\n",
      "dummy_electricity97   -72.3301    239.216     -0.302      0.762    -541.202     396.542\n",
      "==============================================================================\n",
      "Omnibus:                    30898.190   Durbin-Watson:                   1.526\n",
      "Prob(Omnibus):                  0.000   Jarque-Bera (JB):          2384993.009\n",
      "Skew:                           4.358   Prob(JB):                         0.00\n",
      "Kurtosis:                      43.820   Cond. No.                     1.87e+05\n",
      "==============================================================================\n",
      "\n",
      "Warnings:\n",
      "[1] Standard Errors assume that the covariance matrix of the errors is correctly specified.\n",
      "[2] The condition number is large, 1.87e+05. This might indicate that there are\n",
      "strong multicollinearity or other numerical problems.\n"
     ]
    },
    {
     "name": "stdout",
     "output_type": "stream",
     "text": [
      "                            OLS Regression Results                            \n",
      "==============================================================================\n",
      "Dep. Variable:                  vani2   R-squared:                       0.238\n",
      "Model:                            OLS   Adj. R-squared:                  0.238\n",
      "Method:                 Least Squares   F-statistic:                     311.2\n",
      "Date:                Fri, 01 Dec 2017   Prob (F-statistic):               0.00\n",
      "Time:                        21:52:08   Log-Likelihood:            -3.0590e+05\n",
      "No. Observations:               32855   AIC:                         6.119e+05\n",
      "Df Residuals:                   32821   BIC:                         6.121e+05\n",
      "Df Model:                          33                                         \n",
      "Covariance Type:            nonrobust                                         \n",
      "=======================================================================================\n",
      "                          coef    std err          t      P>|t|      [0.025      0.975]\n",
      "---------------------------------------------------------------------------------------\n",
      "const               -1056.4777    283.315     -3.729      0.000   -1611.786    -501.170\n",
      "t2_c1_op              179.9565     30.783      5.846      0.000     119.621     240.292\n",
      "nbani197              226.0283     17.783     12.710      0.000     191.173     260.883\n",
      "nbani297              578.7209      7.710     75.062      0.000     563.609     593.832\n",
      "ha97                   59.2196      6.307      9.389      0.000      46.857      71.582\n",
      "1998                    3.4629     24.793      0.140      0.889     -45.132      52.057\n",
      "age_hh                 29.7244      9.140      3.252      0.001      11.809      47.640\n",
      "age_hh2                -0.2215      0.088     -2.510      0.012      -0.394      -0.049\n",
      "female_hh            -181.0925     82.125     -2.205      0.027    -342.060     -20.125\n",
      "educ1_hh               -7.3753     41.633     -0.177      0.859     -88.978      74.227\n",
      "ethnicity_hh         -411.0574     33.984    -12.096      0.000    -477.668    -344.447\n",
      "age_sp                  7.2864     10.530      0.692      0.489     -13.353      27.925\n",
      "age_sp2                -0.0504      0.112     -0.448      0.654      -0.271       0.170\n",
      "educ1_sp              -73.6401     43.848     -1.679      0.093    -159.583      12.303\n",
      "dage0_7_97           -145.5642     46.238     -3.148      0.002    -236.193     -54.935\n",
      "dage8_17_97            12.5349     42.303      0.296      0.767     -70.381      95.450\n",
      "dage18_54_97          229.7952     82.844      2.774      0.006      67.418     392.173\n",
      "dage55p_97            -41.5642     47.089     -0.883      0.377    -133.861      50.732\n",
      "hhsize97               25.9169      9.133      2.838      0.005       8.016      43.817\n",
      "homeown97              76.1775     61.506      1.239      0.216     -44.377     196.732\n",
      "dirtfloor97          -424.4429     35.684    -11.894      0.000    -494.386    -354.500\n",
      "electricity97         -10.2603     32.592     -0.315      0.753     -74.143      53.622\n",
      "org_faenas             54.6148     45.640      1.197      0.231     -34.841     144.070\n",
      "min_dist               -0.3355      0.388     -0.865      0.387      -1.096       0.425\n",
      "lnup_cwagepm          108.4516     31.001      3.498      0.000      47.689     169.214\n",
      "up2_mcwagepm          465.5270    203.984      2.282      0.022      65.711     865.343\n",
      "dummy_age_hh         1351.3086    875.855      1.543      0.123    -365.398    3068.015\n",
      "dummy_educ_hh         524.8402    281.101      1.867      0.062     -26.128    1075.809\n",
      "dummy_ethnicity_hh   -483.3464    344.470     -1.403      0.161   -1158.521     191.828\n",
      "dummy_age_sp          128.0876    194.935      0.657      0.511    -253.991     510.167\n",
      "dummy_educ_sp        -163.6237    190.488     -0.859      0.390    -536.986     209.739\n",
      "dummy_dage0_7_97     1192.9727    475.840      2.507      0.012     260.308    2125.637\n",
      "dummy_dirtfloor97    -517.3753    303.027     -1.707      0.088   -1111.319      76.568\n",
      "dummy_electricity97   108.0079    743.458      0.145      0.884   -1349.198    1565.213\n",
      "==============================================================================\n",
      "Omnibus:                    35334.408   Durbin-Watson:                   1.521\n",
      "Prob(Omnibus):                  0.000   Jarque-Bera (JB):          4515227.948\n",
      "Skew:                           5.294   Prob(JB):                         0.00\n",
      "Kurtosis:                      59.446   Cond. No.                     1.87e+05\n",
      "==============================================================================\n",
      "\n",
      "Warnings:\n",
      "[1] Standard Errors assume that the covariance matrix of the errors is correctly specified.\n",
      "[2] The condition number is large, 1.87e+05. This might indicate that there are\n",
      "strong multicollinearity or other numerical problems.\n",
      "                            OLS Regression Results                            \n",
      "==============================================================================\n",
      "Dep. Variable:                     ha   R-squared:                       0.194\n",
      "Model:                            OLS   Adj. R-squared:                  0.193\n",
      "Method:                 Least Squares   F-statistic:                     239.7\n",
      "Date:                Fri, 01 Dec 2017   Prob (F-statistic):               0.00\n",
      "Time:                        21:52:08   Log-Likelihood:                -65365.\n",
      "No. Observations:               32855   AIC:                         1.308e+05\n",
      "Df Residuals:                   32821   BIC:                         1.311e+05\n",
      "Df Model:                          33                                         \n",
      "Covariance Type:            nonrobust                                         \n",
      "=======================================================================================\n",
      "                          coef    std err          t      P>|t|      [0.025      0.975]\n",
      "---------------------------------------------------------------------------------------\n",
      "const                  -1.1128      0.187     -5.938      0.000      -1.480      -0.745\n",
      "t2_c1_op                0.0540      0.020      2.652      0.008       0.014       0.094\n",
      "nbani197                0.1130      0.012      9.604      0.000       0.090       0.136\n",
      "nbani297                0.0734      0.005     14.389      0.000       0.063       0.083\n",
      "ha97                    0.2621      0.004     62.815      0.000       0.254       0.270\n",
      "1998                   -0.0534      0.016     -3.257      0.001      -0.086      -0.021\n",
      "age_hh                  0.0325      0.006      5.369      0.000       0.021       0.044\n",
      "age_hh2                -0.0002   5.84e-05     -4.119      0.000      -0.000      -0.000\n",
      "female_hh              -0.2106      0.054     -3.877      0.000      -0.317      -0.104\n",
      "educ1_hh               -0.0183      0.028     -0.664      0.507      -0.072       0.036\n",
      "ethnicity_hh           -0.0683      0.022     -3.039      0.002      -0.112      -0.024\n",
      "age_sp                  0.0048      0.007      0.689      0.491      -0.009       0.018\n",
      "age_sp2              -4.57e-05   7.44e-05     -0.614      0.539      -0.000       0.000\n",
      "educ1_sp               -0.0261      0.029     -0.901      0.367      -0.083       0.031\n",
      "dage0_7_97             -0.1431      0.031     -4.679      0.000      -0.203      -0.083\n",
      "dage8_17_97             0.0427      0.028      1.526      0.127      -0.012       0.098\n",
      "dage18_54_97            0.1501      0.055      2.739      0.006       0.043       0.258\n",
      "dage55p_97              0.0895      0.031      2.873      0.004       0.028       0.151\n",
      "hhsize97                0.0389      0.006      6.434      0.000       0.027       0.051\n",
      "homeown97               0.2837      0.041      6.972      0.000       0.204       0.363\n",
      "dirtfloor97             0.0431      0.024      1.827      0.068      -0.003       0.089\n",
      "electricity97           0.0760      0.022      3.523      0.000       0.034       0.118\n",
      "org_faenas              0.0112      0.030      0.372      0.710      -0.048       0.070\n",
      "min_dist                0.0013      0.000      5.062      0.000       0.001       0.002\n",
      "lnup_cwagepm            0.0116      0.021      0.567      0.571      -0.029       0.052\n",
      "up2_mcwagepm           -0.0791      0.135     -0.586      0.558      -0.344       0.185\n",
      "dummy_age_hh            0.1062      0.579      0.183      0.855      -1.029       1.242\n",
      "dummy_educ_hh           0.0772      0.186      0.415      0.678      -0.287       0.442\n",
      "dummy_ethnicity_hh     -0.1653      0.228     -0.726      0.468      -0.612       0.281\n",
      "dummy_age_sp           -0.2648      0.129     -2.054      0.040      -0.518      -0.012\n",
      "dummy_educ_sp           0.2699      0.126      2.142      0.032       0.023       0.517\n",
      "dummy_dage0_7_97        0.0525      0.315      0.167      0.868      -0.564       0.669\n",
      "dummy_dirtfloor97       0.1018      0.200      0.508      0.612      -0.291       0.495\n",
      "dummy_electricity97    -0.1288      0.492     -0.262      0.793      -1.093       0.835\n",
      "==============================================================================\n",
      "Omnibus:                    23009.410   Durbin-Watson:                   1.602\n",
      "Prob(Omnibus):                  0.000   Jarque-Bera (JB):           524104.829\n",
      "Skew:                           3.100   Prob(JB):                         0.00\n",
      "Kurtosis:                      21.558   Cond. No.                     1.87e+05\n",
      "==============================================================================\n",
      "\n",
      "Warnings:\n",
      "[1] Standard Errors assume that the covariance matrix of the errors is correctly specified.\n",
      "[2] The condition number is large, 1.87e+05. This might indicate that there are\n",
      "strong multicollinearity or other numerical problems.\n"
     ]
    }
   ],
   "source": [
    "#group outcome vars= anil1, anil2, land, vanil1, vanil2, ha\n",
    "outcome_vars= ['ani1', 'ani2', 'land', 'vani1', 'vani2', 'ha']\n",
    "for i in outcome_vars:\n",
    "\n",
    "    x = inv_2[['t2_c1_op', 'nbani197', 'nbani297', 'ha97', '1998', 'age_hh', 'age_hh2', 'female_hh', 'educ1_hh',\n",
    "               'ethnicity_hh','age_sp', 'age_sp2', 'educ1_sp', 'dage0_7_97', 'dage8_17_97', 'dage18_54_97', 'dage55p_97',\n",
    "               'hhsize97', 'homeown97', 'dirtfloor97', 'electricity97', 'org_faenas', 'min_dist', 'lnup_cwagepm',\n",
    "               'up2_mcwagepm', 'dummy_age_hh', 'dummy_educ_hh', 'dummy_ethnicity_hh', 'dummy_age_sp', 'dummy_educ_sp',\n",
    "               'dummy_dage0_7_97', 'dummy_dirtfloor97', 'dummy_electricity97']]\n",
    "    y= inv_2[[i]]\n",
    "    x = sm.add_constant(x)\n",
    "    est = sm.OLS(y, x,missing='drop').fit()\n",
    "    print(est.summary())"
   ]
  },
  {
   "cell_type": "markdown",
   "metadata": {},
   "source": [
    "#### Effect of probability of ownership\n",
    "\n",
    "As expected including the variable changes the effect of CCT on the agricultural investment. The statistically significant negative coefficient of manufacturing indicates in municipalities with high manufacturing income, cash transfer has lower impact on the probability of ownership of animals or land because of the availability of manufacturing jobs. \n"
   ]
  },
  {
   "cell_type": "markdown",
   "metadata": {},
   "source": [
    "#### Effect of value of investment\n",
    "\n",
    "In manufacturing municipalities, cash transfer has higher impact on the value of animals. This is possibly because those who buy animals are able to invest more in them because they are getting income from manufacturing jobs to supplement their cash transfer.\n"
   ]
  },
  {
   "cell_type": "code",
   "execution_count": null,
   "metadata": {
    "collapsed": true
   },
   "outputs": [],
   "source": []
  }
 ],
 "metadata": {
  "kernelspec": {
   "display_name": "Python 3",
   "language": "python",
   "name": "python3"
  },
  "language_info": {
   "codemirror_mode": {
    "name": "ipython",
    "version": 3
   },
   "file_extension": ".py",
   "mimetype": "text/x-python",
   "name": "python",
   "nbconvert_exporter": "python",
   "pygments_lexer": "ipython3",
   "version": "3.6.1"
  }
 },
 "nbformat": 4,
 "nbformat_minor": 2
}
